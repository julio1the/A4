{
  "cells": [
    {
      "cell_type": "markdown",
      "id": "52595169-c7c4-4d7a-90cf-d312d3e2a8c2",
      "metadata": {},
      "source": [
        "# Assignment 04\n",
        "\n",
        "Regression Analysis in R\n",
        "\n",
        "Julio Vargas (Boston University)  \n",
        "September 21, 2025"
      ]
    },
    {
      "cell_type": "code",
      "execution_count": 1,
      "id": "f6b4c2f6",
      "metadata": {},
      "outputs": [
        {
          "name": "stderr",
          "output_type": "stream",
          "text": [
            "WARNING: Using incubator modules: jdk.incubator.vector\n",
            "Using Spark's default log4j profile: org/apache/spark/log4j2-defaults.properties\n",
            "Setting default log level to \"WARN\".\n",
            "To adjust logging level use sc.setLogLevel(newLevel). For SparkR, use setLogLevel(newLevel).\n",
            "25/10/05 21:51:21 WARN NativeCodeLoader: Unable to load native-hadoop library for your platform... using builtin-java classes where applicable\n",
            "                                                                                \r"
          ]
        },
        {
          "name": "stdout",
          "output_type": "stream",
          "text": [
            "---This is Diagnostic check, No need to print it in the final doc---\n"
          ]
        },
        {
          "name": "stderr",
          "output_type": "stream",
          "text": [
            "25/10/05 21:51:36 WARN SparkStringUtils: Truncated the string representation of a plan since it was too large. This behavior can be adjusted by setting 'spark.sql.debug.maxToStringFields'.\n",
            "                                                                                \r"
          ]
        },
        {
          "name": "stdout",
          "output_type": "stream",
          "text": [
            "+--------------------+-----------------+----------------------+----------+--------+---------+--------+--------------------+--------------------+--------------------+-----------+-------------------+--------------------+--------------------+---------------+----------------+--------+--------------------+-----------+-------------------+----------------+---------------------+-------------+-------------------+-------------+------------------+---------------+--------------------+--------------------+--------------------+-------------+------+-----------+----------------+-------------------+---------+-----------+--------------------+--------------------+-------------+------+--------------+-----+--------------------+-----+----------+---------------+--------------------+---------------+--------------------+------------+--------------------+------------+--------------------+------+--------------------+------+--------------------+------+--------------------+------+--------------------+------+--------------------+------------------+-------------------+--------------------+--------------------+--------------------+--------------------+-----------------------+--------------------+--------------------+--------------------+--------------------+--------------------+--------------------+----------+--------------------+----------+--------------------+--------------------+--------------------+--------------------+--------------------+--------------------+--------------------+----------+--------------------+----------+--------------------+----------+---------------+----------+---------------+---------------+--------------------+--------------+--------------------+--------------------------+-------------------------------+--------------------+-------------------------+-----------------------------+----------------------------------+-----------------+----------------------+-----------------------+----------------------------+------------------+-----------------------+-------+--------------------+-------+--------------------+-------+---------------+-------+---------------+-----------------+----------------------+------------+--------------------+------------+--------------------+------------+--------------------+------------+--------------------+------------+--------------------+\n",
            "|                  ID|LAST_UPDATED_DATE|LAST_UPDATED_TIMESTAMP|DUPLICATES|  POSTED|  EXPIRED|DURATION|        SOURCE_TYPES|             SOURCES|                 URL|ACTIVE_URLS|ACTIVE_SOURCES_INFO|           TITLE_RAW|                BODY|MODELED_EXPIRED|MODELED_DURATION| COMPANY|        COMPANY_NAME|COMPANY_RAW|COMPANY_IS_STAFFING|EDUCATION_LEVELS|EDUCATION_LEVELS_NAME|MIN_EDULEVELS| MIN_EDULEVELS_NAME|MAX_EDULEVELS|MAX_EDULEVELS_NAME|EMPLOYMENT_TYPE|EMPLOYMENT_TYPE_NAME|MIN_YEARS_EXPERIENCE|MAX_YEARS_EXPERIENCE|IS_INTERNSHIP|SALARY|REMOTE_TYPE|REMOTE_TYPE_NAME|ORIGINAL_PAY_PERIOD|SALARY_TO|SALARY_FROM|            LOCATION|                CITY|    CITY_NAME|COUNTY|   COUNTY_NAME|  MSA|            MSA_NAME|STATE|STATE_NAME|COUNTY_OUTGOING|COUNTY_NAME_OUTGOING|COUNTY_INCOMING|COUNTY_NAME_INCOMING|MSA_OUTGOING|   MSA_NAME_OUTGOING|MSA_INCOMING|   MSA_NAME_INCOMING|NAICS2|         NAICS2_NAME|NAICS3|         NAICS3_NAME|NAICS4|         NAICS4_NAME|NAICS5|         NAICS5_NAME|NAICS6|         NAICS6_NAME|             TITLE|         TITLE_NAME|         TITLE_CLEAN|              SKILLS|         SKILLS_NAME|  SPECIALIZED_SKILLS|SPECIALIZED_SKILLS_NAME|      CERTIFICATIONS| CERTIFICATIONS_NAME|       COMMON_SKILLS|  COMMON_SKILLS_NAME|     SOFTWARE_SKILLS|SOFTWARE_SKILLS_NAME|      ONET|           ONET_NAME| ONET_2019|      ONET_2019_NAME|                CIP6|           CIP6_NAME|                CIP4|           CIP4_NAME|                CIP2|           CIP2_NAME|SOC_2021_2|     SOC_2021_2_NAME|SOC_2021_3|     SOC_2021_3_NAME|SOC_2021_4|SOC_2021_4_NAME|SOC_2021_5|SOC_2021_5_NAME|LOT_CAREER_AREA|LOT_CAREER_AREA_NAME|LOT_OCCUPATION| LOT_OCCUPATION_NAME|LOT_SPECIALIZED_OCCUPATION|LOT_SPECIALIZED_OCCUPATION_NAME|LOT_OCCUPATION_GROUP|LOT_OCCUPATION_GROUP_NAME|LOT_V6_SPECIALIZED_OCCUPATION|LOT_V6_SPECIALIZED_OCCUPATION_NAME|LOT_V6_OCCUPATION|LOT_V6_OCCUPATION_NAME|LOT_V6_OCCUPATION_GROUP|LOT_V6_OCCUPATION_GROUP_NAME|LOT_V6_CAREER_AREA|LOT_V6_CAREER_AREA_NAME|  SOC_2|          SOC_2_NAME|  SOC_3|          SOC_3_NAME|  SOC_4|     SOC_4_NAME|  SOC_5|     SOC_5_NAME|LIGHTCAST_SECTORS|LIGHTCAST_SECTORS_NAME|NAICS_2022_2|   NAICS_2022_2_NAME|NAICS_2022_3|   NAICS_2022_3_NAME|NAICS_2022_4|   NAICS_2022_4_NAME|NAICS_2022_5|   NAICS_2022_5_NAME|NAICS_2022_6|   NAICS_2022_6_NAME|\n",
            "+--------------------+-----------------+----------------------+----------+--------+---------+--------+--------------------+--------------------+--------------------+-----------+-------------------+--------------------+--------------------+---------------+----------------+--------+--------------------+-----------+-------------------+----------------+---------------------+-------------+-------------------+-------------+------------------+---------------+--------------------+--------------------+--------------------+-------------+------+-----------+----------------+-------------------+---------+-----------+--------------------+--------------------+-------------+------+--------------+-----+--------------------+-----+----------+---------------+--------------------+---------------+--------------------+------------+--------------------+------------+--------------------+------+--------------------+------+--------------------+------+--------------------+------+--------------------+------+--------------------+------------------+-------------------+--------------------+--------------------+--------------------+--------------------+-----------------------+--------------------+--------------------+--------------------+--------------------+--------------------+--------------------+----------+--------------------+----------+--------------------+--------------------+--------------------+--------------------+--------------------+--------------------+--------------------+----------+--------------------+----------+--------------------+----------+---------------+----------+---------------+---------------+--------------------+--------------+--------------------+--------------------------+-------------------------------+--------------------+-------------------------+-----------------------------+----------------------------------+-----------------+----------------------+-----------------------+----------------------------+------------------+-----------------------+-------+--------------------+-------+--------------------+-------+---------------+-------+---------------+-----------------+----------------------+------------+--------------------+------------+--------------------+------------+--------------------+------------+--------------------+------------+--------------------+\n",
            "|1f57d95acf4dc67ed...|         9/6/2024|  2024-09-06 20:32:...|         0|6/2/2024| 6/8/2024|       6|   [\\n  \"Company\"\\n]|[\\n  \"brassring.c...|[\\n  \"https://sjo...|         []|               NULL|Enterprise Analys...|31-May-2024\\n\\nEn...|       6/8/2024|               6|  894731|          Murphy USA| Murphy USA|              false|       [\\n  2\\n]| [\\n  \"Bachelor's ...|            2|  Bachelor's degree|         NULL|              NULL|              1|Full-time (> 32 h...|                   2|                   2|        false|  NULL|          0|          [None]|               NULL|     NULL|       NULL|{\\n  \"lat\": 33.20...|RWwgRG9yYWRvLCBBUg==|El Dorado, AR|  5139|     Union, AR|20980|       El Dorado, AR|    5|  Arkansas|           5139|           Union, AR|           5139|           Union, AR|       20980|       El Dorado, AR|       20980|       El Dorado, AR|    44|        Retail Trade|   441|Motor Vehicle and...|  4413|Automotive Parts,...| 44133|Automotive Parts ...|441330|Automotive Parts ...|ET29C073C03D1F86B4|Enterprise Analysts|enterprise analys...|[\\n  \"KS126DB6T06...|[\\n  \"Merchandisi...|[\\n  \"KS126DB6T06...|   [\\n  \"Merchandisi...|                  []|                  []|[\\n  \"KS126706DPF...|[\\n  \"Mathematics...|[\\n  \"KS440W865GC...|[\\n  \"SQL (Progra...|15-2051.01|Business Intellig...|15-2051.01|Business Intellig...|[\\n  \"45.0601\",\\n...|[\\n  \"Economics, ...|[\\n  \"45.06\",\\n  ...|[\\n  \"Economics\",...|[\\n  \"45\",\\n  \"27...|[\\n  \"Social Scie...|   15-0000|Computer and Math...|   15-2000|Mathematical Scie...|   15-2050|Data Scientists|   15-2051|Data Scientists|             23|Information Techn...|        231010|Business Intellig...|                  23101011|           General ERP Analy...|                2310|     Business Intellig...|                     23101011|              General ERP Analy...|           231010|  Business Intellig...|                   2310|        Business Intellig...|                23|   Information Techn...|15-0000|Computer and Math...|15-2000|Mathematical Scie...|15-2050|Data Scientists|15-2051|Data Scientists|        [\\n  7\\n]|  [\\n  \"Artificial ...|          44|        Retail Trade|         441|Motor Vehicle and...|        4413|Automotive Parts,...|       44133|Automotive Parts ...|      441330|Automotive Parts ...|\n",
            "|0cb072af26757b6c4...|         8/2/2024|  2024-08-02 17:08:...|         0|6/2/2024| 8/1/2024|    NULL| [\\n  \"Job Board\"\\n]| [\\n  \"maine.gov\"\\n]|[\\n  \"https://job...|         []|               NULL|Oracle Consultant...|Oracle Consultant...|       8/1/2024|            NULL|  133098|Smx Corporation L...|        SMX|               true|      [\\n  99\\n]| [\\n  \"No Educatio...|           99|No Education Listed|         NULL|              NULL|              1|Full-time (> 32 h...|                   3|                   3|        false|  NULL|          1|          Remote|               NULL|     NULL|       NULL|{\\n  \"lat\": 44.31...|    QXVndXN0YSwgTUU=|  Augusta, ME| 23011|  Kennebec, ME|12300|Augusta-Watervill...|   23|     Maine|          23011|        Kennebec, ME|          23011|        Kennebec, ME|       12300|Augusta-Watervill...|       12300|Augusta-Watervill...|    56|Administrative an...|   561|Administrative an...|  5613| Employment Services| 56132|Temporary Help Se...|561320|Temporary Help Se...|ET21DDA63780A7DC09| Oracle Consultants|oracle consultant...|[\\n  \"KS122626T55...|[\\n  \"Procurement...|[\\n  \"KS122626T55...|   [\\n  \"Procurement...|                  []|                  []|                  []|                  []|[\\n  \"BGSBF3F508F...|[\\n  \"Oracle Busi...|15-2051.01|Business Intellig...|15-2051.01|Business Intellig...|                  []|                  []|                  []|                  []|                  []|                  []|   15-0000|Computer and Math...|   15-2000|Mathematical Scie...|   15-2050|Data Scientists|   15-2051|Data Scientists|             23|Information Techn...|        231010|Business Intellig...|                  23101012|           Oracle Consultant...|                2310|     Business Intellig...|                     23101012|              Oracle Consultant...|           231010|  Business Intellig...|                   2310|        Business Intellig...|                23|   Information Techn...|15-0000|Computer and Math...|15-2000|Mathematical Scie...|15-2050|Data Scientists|15-2051|Data Scientists|             NULL|                  NULL|          56|Administrative an...|         561|Administrative an...|        5613| Employment Services|       56132|Temporary Help Se...|      561320|Temporary Help Se...|\n",
            "|85318b12b3331fa49...|         9/6/2024|  2024-09-06 20:32:...|         1|6/2/2024| 7/7/2024|      35| [\\n  \"Job Board\"\\n]|[\\n  \"dejobs.org\"\\n]|[\\n  \"https://dej...|         []|               NULL|        Data Analyst|Taking care of pe...|      6/10/2024|               8|39063746|            Sedgwick|   Sedgwick|              false|       [\\n  2\\n]| [\\n  \"Bachelor's ...|            2|  Bachelor's degree|         NULL|              NULL|              1|Full-time (> 32 h...|                   5|                NULL|        false|  NULL|          0|          [None]|               NULL|     NULL|       NULL|{\\n  \"lat\": 32.77...|    RGFsbGFzLCBUWA==|   Dallas, TX| 48113|    Dallas, TX|19100|Dallas-Fort Worth...|   48|     Texas|          48113|          Dallas, TX|          48113|          Dallas, TX|       19100|Dallas-Fort Worth...|       19100|Dallas-Fort Worth...|    52|Finance and Insur...|   524|Insurance Carrier...|  5242|Agencies, Brokera...| 52429|Other Insurance R...|524291|    Claims Adjusting|ET3037E0C947A02404|      Data Analysts|        data analyst|[\\n  \"KS1218W78FG...|[\\n  \"Management\"...|[\\n  \"ESF3939CE1F...|   [\\n  \"Exception R...|[\\n  \"KS683TN76T7...|[\\n  \"Security Cl...|[\\n  \"KS1218W78FG...|[\\n  \"Management\"...|[\\n  \"KS126HY6YLT...|[\\n  \"Microsoft O...|15-2051.01|Business Intellig...|15-2051.01|Business Intellig...|                  []|                  []|                  []|                  []|                  []|                  []|   15-0000|Computer and Math...|   15-2000|Mathematical Scie...|   15-2050|Data Scientists|   15-2051|Data Scientists|             23|Information Techn...|        231113|Data / Data Minin...|                  23111310|                   Data Analyst|                2311|     Data Analysis and...|                     23111310|                      Data Analyst|           231113|  Data / Data Minin...|                   2311|        Data Analysis and...|                23|   Information Techn...|15-0000|Computer and Math...|15-2000|Mathematical Scie...|15-2050|Data Scientists|15-2051|Data Scientists|             NULL|                  NULL|          52|Finance and Insur...|         524|Insurance Carrier...|        5242|Agencies, Brokera...|       52429|Other Insurance R...|      524291|    Claims Adjusting|\n",
            "|1b5c3941e54a1889e...|         9/6/2024|  2024-09-06 20:32:...|         1|6/2/2024|7/20/2024|      48| [\\n  \"Job Board\"\\n]|[\\n  \"disabledper...|[\\n  \"https://www...|         []|               NULL|Sr. Lead Data Mgm...|About this role:\\...|      6/12/2024|              10|37615159|         Wells Fargo|Wells Fargo|              false|      [\\n  99\\n]| [\\n  \"No Educatio...|           99|No Education Listed|         NULL|              NULL|              1|Full-time (> 32 h...|                   3|                NULL|        false|  NULL|          0|          [None]|               NULL|     NULL|       NULL|{\\n  \"lat\": 33.44...|    UGhvZW5peCwgQVo=|  Phoenix, AZ|  4013|  Maricopa, AZ|38060|Phoenix-Mesa-Chan...|    4|   Arizona|           4013|        Maricopa, AZ|           4013|        Maricopa, AZ|       38060|Phoenix-Mesa-Chan...|       38060|Phoenix-Mesa-Chan...|    52|Finance and Insur...|   522|Credit Intermedia...|  5221|Depository Credit...| 52211|  Commercial Banking|522110|  Commercial Banking|ET2114E0404BA30075|Management Analysts|sr lead data mgmt...|[\\n  \"KS123QX62QY...|[\\n  \"Exit Strate...|[\\n  \"KS123QX62QY...|   [\\n  \"Exit Strate...|                  []|                  []|[\\n  \"KS7G6NP6R6L...|[\\n  \"Reliability...|[\\n  \"KS4409D76NW...|[\\n  \"SAS (Softwa...|15-2051.01|Business Intellig...|15-2051.01|Business Intellig...|                  []|                  []|                  []|                  []|                  []|                  []|   15-0000|Computer and Math...|   15-2000|Mathematical Scie...|   15-2050|Data Scientists|   15-2051|Data Scientists|             23|Information Techn...|        231113|Data / Data Minin...|                  23111310|                   Data Analyst|                2311|     Data Analysis and...|                     23111310|                      Data Analyst|           231113|  Data / Data Minin...|                   2311|        Data Analysis and...|                23|   Information Techn...|15-0000|Computer and Math...|15-2000|Mathematical Scie...|15-2050|Data Scientists|15-2051|Data Scientists|        [\\n  6\\n]|  [\\n  \"Data Privac...|          52|Finance and Insur...|         522|Credit Intermedia...|        5221|Depository Credit...|       52211|  Commercial Banking|      522110|  Commercial Banking|\n",
            "|cb5ca25f02bdf25c1...|        6/19/2024|   2024-06-19 07:00:00|         0|6/2/2024|6/17/2024|      15|[\\n  \"FreeJobBoar...|[\\n  \"craigslist....|[\\n  \"https://mod...|         []|               NULL|Comisiones de $10...|Comisiones de $10...|      6/17/2024|              15|       0|        Unclassified|      LH/GM|              false|      [\\n  99\\n]| [\\n  \"No Educatio...|           99|No Education Listed|         NULL|              NULL|              3|Part-time / full-...|                NULL|                NULL|        false| 92500|          0|          [None]|               year|   150000|      35000|{\\n  \"lat\": 37.63...|    TW9kZXN0bywgQ0E=|  Modesto, CA|  6099|Stanislaus, CA|33700|         Modesto, CA|    6|California|           6099|      Stanislaus, CA|           6099|      Stanislaus, CA|       33700|         Modesto, CA|       33700|         Modesto, CA|    99|Unclassified Indu...|   999|Unclassified Indu...|  9999|Unclassified Indu...| 99999|Unclassified Indu...|999999|Unclassified Indu...|ET0000000000000000|       Unclassified|comisiones de por...|                  []|                  []|                  []|                     []|                  []|                  []|                  []|                  []|                  []|                  []|15-2051.01|Business Intellig...|15-2051.01|Business Intellig...|                  []|                  []|                  []|                  []|                  []|                  []|   15-0000|Computer and Math...|   15-2000|Mathematical Scie...|   15-2050|Data Scientists|   15-2051|Data Scientists|             23|Information Techn...|        231010|Business Intellig...|                  23101012|           Oracle Consultant...|                2310|     Business Intellig...|                     23101012|              Oracle Consultant...|           231010|  Business Intellig...|                   2310|        Business Intellig...|                23|   Information Techn...|15-0000|Computer and Math...|15-2000|Mathematical Scie...|15-2050|Data Scientists|15-2051|Data Scientists|             NULL|                  NULL|          99|Unclassified Indu...|         999|Unclassified Indu...|        9999|Unclassified Indu...|       99999|Unclassified Indu...|      999999|Unclassified Indu...|\n",
            "+--------------------+-----------------+----------------------+----------+--------+---------+--------+--------------------+--------------------+--------------------+-----------+-------------------+--------------------+--------------------+---------------+----------------+--------+--------------------+-----------+-------------------+----------------+---------------------+-------------+-------------------+-------------+------------------+---------------+--------------------+--------------------+--------------------+-------------+------+-----------+----------------+-------------------+---------+-----------+--------------------+--------------------+-------------+------+--------------+-----+--------------------+-----+----------+---------------+--------------------+---------------+--------------------+------------+--------------------+------------+--------------------+------+--------------------+------+--------------------+------+--------------------+------+--------------------+------+--------------------+------------------+-------------------+--------------------+--------------------+--------------------+--------------------+-----------------------+--------------------+--------------------+--------------------+--------------------+--------------------+--------------------+----------+--------------------+----------+--------------------+--------------------+--------------------+--------------------+--------------------+--------------------+--------------------+----------+--------------------+----------+--------------------+----------+---------------+----------+---------------+---------------+--------------------+--------------+--------------------+--------------------------+-------------------------------+--------------------+-------------------------+-----------------------------+----------------------------------+-----------------+----------------------+-----------------------+----------------------------+------------------+-----------------------+-------+--------------------+-------+--------------------+-------+---------------+-------+---------------+-----------------+----------------------+------------+--------------------+------------+--------------------+------------+--------------------+------------+--------------------+------------+--------------------+\n",
            "only showing top 5 rows\n"
          ]
        },
        {
          "name": "stderr",
          "output_type": "stream",
          "text": [
            "[Stage 3:>                                                          (0 + 1) / 1]\r"
          ]
        },
        {
          "name": "stdout",
          "output_type": "stream",
          "text": [
            "72498\n"
          ]
        },
        {
          "name": "stderr",
          "output_type": "stream",
          "text": [
            "                                                                                \r"
          ]
        }
      ],
      "source": [
        "from pyspark.sql import SparkSession\n",
        "import pandas as pd\n",
        "import plotly.express as px\n",
        "import plotly.io as pio\n",
        "import numpy as np\n",
        "\n",
        "np.random.seed(42)\n",
        "\n",
        "pio.renderers.default = \"notebook+notebook_connected+vscode\"\n",
        "\n",
        "# Initialize Spark Session\n",
        "spark = SparkSession.builder.appName(\"LightcastData\").getOrCreate()\n",
        "\n",
        "# Load Data\n",
        "df = spark.read.option(\"header\", \"true\").option(\"inferSchema\", \"true\").option(\"multiLine\",\"true\").option(\"escape\", \"\\\"\").csv(\"data/lightcast_job_postings.csv\")\n",
        "\n",
        "# Show Schema and Sample Data\n",
        "print(\"---This is Diagnostic check, No need to print it in the final doc---\")\n",
        "\n",
        "# df.printSchema() # comment this line when rendering the submission\n",
        "df.show(5)\n",
        "print(df.count())\n",
        "#pd.set_option(\"display.max_rows\", None)  \n",
        "#pd.DataFrame(df.columns, columns=[\"Column Names\"])\n"
      ]
    },
    {
      "cell_type": "markdown",
      "id": "00492307",
      "metadata": {},
      "source": [
        "## Missing Value Treatment\n",
        "\n",
        "Replace the missing values in *Salary* by the median of *Salary* based on the *EMPLOYMENT_TYPE* or *EMPLOYMENT_TYPE_NAME*.  \n",
        "If both are missing, then replace them with the overall median of *Salary*.\n"
      ]
    },
    {
      "cell_type": "code",
      "execution_count": 2,
      "id": "256ea002",
      "metadata": {},
      "outputs": [
        {
          "name": "stderr",
          "output_type": "stream",
          "text": [
            "                                                                                \r"
          ]
        },
        {
          "name": "stdout",
          "output_type": "stream",
          "text": [
            "+--------------------+---------------+--------------------+-----------------+----------------------+----------+--------+---------+--------+--------------------+--------------------+--------------------+-----------+-------------------+--------------------+--------------------+---------------+----------------+--------+--------------------+-----------+-------------------+----------------+---------------------+-------------+-------------------+-------------+------------------+--------------------+--------------------+-------------+------+-----------+----------------+-------------------+---------+-----------+--------------------+--------------------+-------------+------+--------------+-----+--------------------+-----+----------+---------------+--------------------+---------------+--------------------+------------+--------------------+------------+--------------------+------+--------------------+------+--------------------+------+--------------------+------+--------------------+------+--------------------+------------------+-------------------+--------------------+--------------------+--------------------+--------------------+-----------------------+--------------------+--------------------+--------------------+--------------------+--------------------+--------------------+----------+--------------------+----------+--------------------+--------------------+--------------------+--------------------+--------------------+--------------------+--------------------+----------+--------------------+----------+--------------------+----------+---------------+----------+---------------+---------------+--------------------+--------------+--------------------+--------------------------+-------------------------------+--------------------+-------------------------+-----------------------------+----------------------------------+-----------------+----------------------+-----------------------+----------------------------+------------------+-----------------------+-------+--------------------+-------+--------------------+-------+---------------+-------+---------------+-----------------+----------------------+------------+--------------------+------------+--------------------+------------+--------------------+------------+--------------------+------------+--------------------+----------------------+---------------------------+\n",
            "|EMPLOYMENT_TYPE_NAME|EMPLOYMENT_TYPE|                  ID|LAST_UPDATED_DATE|LAST_UPDATED_TIMESTAMP|DUPLICATES|  POSTED|  EXPIRED|DURATION|        SOURCE_TYPES|             SOURCES|                 URL|ACTIVE_URLS|ACTIVE_SOURCES_INFO|           TITLE_RAW|                BODY|MODELED_EXPIRED|MODELED_DURATION| COMPANY|        COMPANY_NAME|COMPANY_RAW|COMPANY_IS_STAFFING|EDUCATION_LEVELS|EDUCATION_LEVELS_NAME|MIN_EDULEVELS| MIN_EDULEVELS_NAME|MAX_EDULEVELS|MAX_EDULEVELS_NAME|MIN_YEARS_EXPERIENCE|MAX_YEARS_EXPERIENCE|IS_INTERNSHIP|SALARY|REMOTE_TYPE|REMOTE_TYPE_NAME|ORIGINAL_PAY_PERIOD|SALARY_TO|SALARY_FROM|            LOCATION|                CITY|    CITY_NAME|COUNTY|   COUNTY_NAME|  MSA|            MSA_NAME|STATE|STATE_NAME|COUNTY_OUTGOING|COUNTY_NAME_OUTGOING|COUNTY_INCOMING|COUNTY_NAME_INCOMING|MSA_OUTGOING|   MSA_NAME_OUTGOING|MSA_INCOMING|   MSA_NAME_INCOMING|NAICS2|         NAICS2_NAME|NAICS3|         NAICS3_NAME|NAICS4|         NAICS4_NAME|NAICS5|         NAICS5_NAME|NAICS6|         NAICS6_NAME|             TITLE|         TITLE_NAME|         TITLE_CLEAN|              SKILLS|         SKILLS_NAME|  SPECIALIZED_SKILLS|SPECIALIZED_SKILLS_NAME|      CERTIFICATIONS| CERTIFICATIONS_NAME|       COMMON_SKILLS|  COMMON_SKILLS_NAME|     SOFTWARE_SKILLS|SOFTWARE_SKILLS_NAME|      ONET|           ONET_NAME| ONET_2019|      ONET_2019_NAME|                CIP6|           CIP6_NAME|                CIP4|           CIP4_NAME|                CIP2|           CIP2_NAME|SOC_2021_2|     SOC_2021_2_NAME|SOC_2021_3|     SOC_2021_3_NAME|SOC_2021_4|SOC_2021_4_NAME|SOC_2021_5|SOC_2021_5_NAME|LOT_CAREER_AREA|LOT_CAREER_AREA_NAME|LOT_OCCUPATION| LOT_OCCUPATION_NAME|LOT_SPECIALIZED_OCCUPATION|LOT_SPECIALIZED_OCCUPATION_NAME|LOT_OCCUPATION_GROUP|LOT_OCCUPATION_GROUP_NAME|LOT_V6_SPECIALIZED_OCCUPATION|LOT_V6_SPECIALIZED_OCCUPATION_NAME|LOT_V6_OCCUPATION|LOT_V6_OCCUPATION_NAME|LOT_V6_OCCUPATION_GROUP|LOT_V6_OCCUPATION_GROUP_NAME|LOT_V6_CAREER_AREA|LOT_V6_CAREER_AREA_NAME|  SOC_2|          SOC_2_NAME|  SOC_3|          SOC_3_NAME|  SOC_4|     SOC_4_NAME|  SOC_5|     SOC_5_NAME|LIGHTCAST_SECTORS|LIGHTCAST_SECTORS_NAME|NAICS_2022_2|   NAICS_2022_2_NAME|NAICS_2022_3|   NAICS_2022_3_NAME|NAICS_2022_4|   NAICS_2022_4_NAME|NAICS_2022_5|   NAICS_2022_5_NAME|NAICS_2022_6|   NAICS_2022_6_NAME|median_salary_emp_type|median_salary_emp_type_name|\n",
            "+--------------------+---------------+--------------------+-----------------+----------------------+----------+--------+---------+--------+--------------------+--------------------+--------------------+-----------+-------------------+--------------------+--------------------+---------------+----------------+--------+--------------------+-----------+-------------------+----------------+---------------------+-------------+-------------------+-------------+------------------+--------------------+--------------------+-------------+------+-----------+----------------+-------------------+---------+-----------+--------------------+--------------------+-------------+------+--------------+-----+--------------------+-----+----------+---------------+--------------------+---------------+--------------------+------------+--------------------+------------+--------------------+------+--------------------+------+--------------------+------+--------------------+------+--------------------+------+--------------------+------------------+-------------------+--------------------+--------------------+--------------------+--------------------+-----------------------+--------------------+--------------------+--------------------+--------------------+--------------------+--------------------+----------+--------------------+----------+--------------------+--------------------+--------------------+--------------------+--------------------+--------------------+--------------------+----------+--------------------+----------+--------------------+----------+---------------+----------+---------------+---------------+--------------------+--------------+--------------------+--------------------------+-------------------------------+--------------------+-------------------------+-----------------------------+----------------------------------+-----------------+----------------------+-----------------------+----------------------------+------------------+-----------------------+-------+--------------------+-------+--------------------+-------+---------------+-------+---------------+-----------------+----------------------+------------+--------------------+------------+--------------------+------------+--------------------+------------+--------------------+------------+--------------------+----------------------+---------------------------+\n",
            "|Full-time (> 32 h...|              1|1f57d95acf4dc67ed...|         9/6/2024|  2024-09-06 20:32:...|         0|6/2/2024| 6/8/2024|       6|   [\\n  \"Company\"\\n]|[\\n  \"brassring.c...|[\\n  \"https://sjo...|         []|               NULL|Enterprise Analys...|31-May-2024\\n\\nEn...|       6/8/2024|               6|  894731|          Murphy USA| Murphy USA|              false|       [\\n  2\\n]| [\\n  \"Bachelor's ...|            2|  Bachelor's degree|         NULL|              NULL|                   2|                   2|        false|  NULL|          0|          [None]|               NULL|     NULL|       NULL|{\\n  \"lat\": 33.20...|RWwgRG9yYWRvLCBBUg==|El Dorado, AR|  5139|     Union, AR|20980|       El Dorado, AR|    5|  Arkansas|           5139|           Union, AR|           5139|           Union, AR|       20980|       El Dorado, AR|       20980|       El Dorado, AR|    44|        Retail Trade|   441|Motor Vehicle and...|  4413|Automotive Parts,...| 44133|Automotive Parts ...|441330|Automotive Parts ...|ET29C073C03D1F86B4|Enterprise Analysts|enterprise analys...|[\\n  \"KS126DB6T06...|[\\n  \"Merchandisi...|[\\n  \"KS126DB6T06...|   [\\n  \"Merchandisi...|                  []|                  []|[\\n  \"KS126706DPF...|[\\n  \"Mathematics...|[\\n  \"KS440W865GC...|[\\n  \"SQL (Progra...|15-2051.01|Business Intellig...|15-2051.01|Business Intellig...|[\\n  \"45.0601\",\\n...|[\\n  \"Economics, ...|[\\n  \"45.06\",\\n  ...|[\\n  \"Economics\",...|[\\n  \"45\",\\n  \"27...|[\\n  \"Social Scie...|   15-0000|Computer and Math...|   15-2000|Mathematical Scie...|   15-2050|Data Scientists|   15-2051|Data Scientists|             23|Information Techn...|        231010|Business Intellig...|                  23101011|           General ERP Analy...|                2310|     Business Intellig...|                     23101011|              General ERP Analy...|           231010|  Business Intellig...|                   2310|        Business Intellig...|                23|   Information Techn...|15-0000|Computer and Math...|15-2000|Mathematical Scie...|15-2050|Data Scientists|15-2051|Data Scientists|        [\\n  7\\n]|  [\\n  \"Artificial ...|          44|        Retail Trade|         441|Motor Vehicle and...|        4413|Automotive Parts,...|       44133|Automotive Parts ...|      441330|Automotive Parts ...|                116500|                     116500|\n",
            "|Full-time (> 32 h...|              1|0cb072af26757b6c4...|         8/2/2024|  2024-08-02 17:08:...|         0|6/2/2024| 8/1/2024|    NULL| [\\n  \"Job Board\"\\n]| [\\n  \"maine.gov\"\\n]|[\\n  \"https://job...|         []|               NULL|Oracle Consultant...|Oracle Consultant...|       8/1/2024|            NULL|  133098|Smx Corporation L...|        SMX|               true|      [\\n  99\\n]| [\\n  \"No Educatio...|           99|No Education Listed|         NULL|              NULL|                   3|                   3|        false|  NULL|          1|          Remote|               NULL|     NULL|       NULL|{\\n  \"lat\": 44.31...|    QXVndXN0YSwgTUU=|  Augusta, ME| 23011|  Kennebec, ME|12300|Augusta-Watervill...|   23|     Maine|          23011|        Kennebec, ME|          23011|        Kennebec, ME|       12300|Augusta-Watervill...|       12300|Augusta-Watervill...|    56|Administrative an...|   561|Administrative an...|  5613| Employment Services| 56132|Temporary Help Se...|561320|Temporary Help Se...|ET21DDA63780A7DC09| Oracle Consultants|oracle consultant...|[\\n  \"KS122626T55...|[\\n  \"Procurement...|[\\n  \"KS122626T55...|   [\\n  \"Procurement...|                  []|                  []|                  []|                  []|[\\n  \"BGSBF3F508F...|[\\n  \"Oracle Busi...|15-2051.01|Business Intellig...|15-2051.01|Business Intellig...|                  []|                  []|                  []|                  []|                  []|                  []|   15-0000|Computer and Math...|   15-2000|Mathematical Scie...|   15-2050|Data Scientists|   15-2051|Data Scientists|             23|Information Techn...|        231010|Business Intellig...|                  23101012|           Oracle Consultant...|                2310|     Business Intellig...|                     23101012|              Oracle Consultant...|           231010|  Business Intellig...|                   2310|        Business Intellig...|                23|   Information Techn...|15-0000|Computer and Math...|15-2000|Mathematical Scie...|15-2050|Data Scientists|15-2051|Data Scientists|             NULL|                  NULL|          56|Administrative an...|         561|Administrative an...|        5613| Employment Services|       56132|Temporary Help Se...|      561320|Temporary Help Se...|                116500|                     116500|\n",
            "|Full-time (> 32 h...|              1|85318b12b3331fa49...|         9/6/2024|  2024-09-06 20:32:...|         1|6/2/2024| 7/7/2024|      35| [\\n  \"Job Board\"\\n]|[\\n  \"dejobs.org\"\\n]|[\\n  \"https://dej...|         []|               NULL|        Data Analyst|Taking care of pe...|      6/10/2024|               8|39063746|            Sedgwick|   Sedgwick|              false|       [\\n  2\\n]| [\\n  \"Bachelor's ...|            2|  Bachelor's degree|         NULL|              NULL|                   5|                NULL|        false|  NULL|          0|          [None]|               NULL|     NULL|       NULL|{\\n  \"lat\": 32.77...|    RGFsbGFzLCBUWA==|   Dallas, TX| 48113|    Dallas, TX|19100|Dallas-Fort Worth...|   48|     Texas|          48113|          Dallas, TX|          48113|          Dallas, TX|       19100|Dallas-Fort Worth...|       19100|Dallas-Fort Worth...|    52|Finance and Insur...|   524|Insurance Carrier...|  5242|Agencies, Brokera...| 52429|Other Insurance R...|524291|    Claims Adjusting|ET3037E0C947A02404|      Data Analysts|        data analyst|[\\n  \"KS1218W78FG...|[\\n  \"Management\"...|[\\n  \"ESF3939CE1F...|   [\\n  \"Exception R...|[\\n  \"KS683TN76T7...|[\\n  \"Security Cl...|[\\n  \"KS1218W78FG...|[\\n  \"Management\"...|[\\n  \"KS126HY6YLT...|[\\n  \"Microsoft O...|15-2051.01|Business Intellig...|15-2051.01|Business Intellig...|                  []|                  []|                  []|                  []|                  []|                  []|   15-0000|Computer and Math...|   15-2000|Mathematical Scie...|   15-2050|Data Scientists|   15-2051|Data Scientists|             23|Information Techn...|        231113|Data / Data Minin...|                  23111310|                   Data Analyst|                2311|     Data Analysis and...|                     23111310|                      Data Analyst|           231113|  Data / Data Minin...|                   2311|        Data Analysis and...|                23|   Information Techn...|15-0000|Computer and Math...|15-2000|Mathematical Scie...|15-2050|Data Scientists|15-2051|Data Scientists|             NULL|                  NULL|          52|Finance and Insur...|         524|Insurance Carrier...|        5242|Agencies, Brokera...|       52429|Other Insurance R...|      524291|    Claims Adjusting|                116500|                     116500|\n",
            "|Full-time (> 32 h...|              1|1b5c3941e54a1889e...|         9/6/2024|  2024-09-06 20:32:...|         1|6/2/2024|7/20/2024|      48| [\\n  \"Job Board\"\\n]|[\\n  \"disabledper...|[\\n  \"https://www...|         []|               NULL|Sr. Lead Data Mgm...|About this role:\\...|      6/12/2024|              10|37615159|         Wells Fargo|Wells Fargo|              false|      [\\n  99\\n]| [\\n  \"No Educatio...|           99|No Education Listed|         NULL|              NULL|                   3|                NULL|        false|  NULL|          0|          [None]|               NULL|     NULL|       NULL|{\\n  \"lat\": 33.44...|    UGhvZW5peCwgQVo=|  Phoenix, AZ|  4013|  Maricopa, AZ|38060|Phoenix-Mesa-Chan...|    4|   Arizona|           4013|        Maricopa, AZ|           4013|        Maricopa, AZ|       38060|Phoenix-Mesa-Chan...|       38060|Phoenix-Mesa-Chan...|    52|Finance and Insur...|   522|Credit Intermedia...|  5221|Depository Credit...| 52211|  Commercial Banking|522110|  Commercial Banking|ET2114E0404BA30075|Management Analysts|sr lead data mgmt...|[\\n  \"KS123QX62QY...|[\\n  \"Exit Strate...|[\\n  \"KS123QX62QY...|   [\\n  \"Exit Strate...|                  []|                  []|[\\n  \"KS7G6NP6R6L...|[\\n  \"Reliability...|[\\n  \"KS4409D76NW...|[\\n  \"SAS (Softwa...|15-2051.01|Business Intellig...|15-2051.01|Business Intellig...|                  []|                  []|                  []|                  []|                  []|                  []|   15-0000|Computer and Math...|   15-2000|Mathematical Scie...|   15-2050|Data Scientists|   15-2051|Data Scientists|             23|Information Techn...|        231113|Data / Data Minin...|                  23111310|                   Data Analyst|                2311|     Data Analysis and...|                     23111310|                      Data Analyst|           231113|  Data / Data Minin...|                   2311|        Data Analysis and...|                23|   Information Techn...|15-0000|Computer and Math...|15-2000|Mathematical Scie...|15-2050|Data Scientists|15-2051|Data Scientists|        [\\n  6\\n]|  [\\n  \"Data Privac...|          52|Finance and Insur...|         522|Credit Intermedia...|        5221|Depository Credit...|       52211|  Commercial Banking|      522110|  Commercial Banking|                116500|                     116500|\n",
            "|Part-time / full-...|              3|cb5ca25f02bdf25c1...|        6/19/2024|   2024-06-19 07:00:00|         0|6/2/2024|6/17/2024|      15|[\\n  \"FreeJobBoar...|[\\n  \"craigslist....|[\\n  \"https://mod...|         []|               NULL|Comisiones de $10...|Comisiones de $10...|      6/17/2024|              15|       0|        Unclassified|      LH/GM|              false|      [\\n  99\\n]| [\\n  \"No Educatio...|           99|No Education Listed|         NULL|              NULL|                NULL|                NULL|        false| 92500|          0|          [None]|               year|   150000|      35000|{\\n  \"lat\": 37.63...|    TW9kZXN0bywgQ0E=|  Modesto, CA|  6099|Stanislaus, CA|33700|         Modesto, CA|    6|California|           6099|      Stanislaus, CA|           6099|      Stanislaus, CA|       33700|         Modesto, CA|       33700|         Modesto, CA|    99|Unclassified Indu...|   999|Unclassified Indu...|  9999|Unclassified Indu...| 99999|Unclassified Indu...|999999|Unclassified Indu...|ET0000000000000000|       Unclassified|comisiones de por...|                  []|                  []|                  []|                     []|                  []|                  []|                  []|                  []|                  []|                  []|15-2051.01|Business Intellig...|15-2051.01|Business Intellig...|                  []|                  []|                  []|                  []|                  []|                  []|   15-0000|Computer and Math...|   15-2000|Mathematical Scie...|   15-2050|Data Scientists|   15-2051|Data Scientists|             23|Information Techn...|        231010|Business Intellig...|                  23101012|           Oracle Consultant...|                2310|     Business Intellig...|                     23101012|              Oracle Consultant...|           231010|  Business Intellig...|                   2310|        Business Intellig...|                23|   Information Techn...|15-0000|Computer and Math...|15-2000|Mathematical Scie...|15-2050|Data Scientists|15-2051|Data Scientists|             NULL|                  NULL|          99|Unclassified Indu...|         999|Unclassified Indu...|        9999|Unclassified Indu...|       99999|Unclassified Indu...|      999999|Unclassified Indu...|                100000|                     100000|\n",
            "+--------------------+---------------+--------------------+-----------------+----------------------+----------+--------+---------+--------+--------------------+--------------------+--------------------+-----------+-------------------+--------------------+--------------------+---------------+----------------+--------+--------------------+-----------+-------------------+----------------+---------------------+-------------+-------------------+-------------+------------------+--------------------+--------------------+-------------+------+-----------+----------------+-------------------+---------+-----------+--------------------+--------------------+-------------+------+--------------+-----+--------------------+-----+----------+---------------+--------------------+---------------+--------------------+------------+--------------------+------------+--------------------+------+--------------------+------+--------------------+------+--------------------+------+--------------------+------+--------------------+------------------+-------------------+--------------------+--------------------+--------------------+--------------------+-----------------------+--------------------+--------------------+--------------------+--------------------+--------------------+--------------------+----------+--------------------+----------+--------------------+--------------------+--------------------+--------------------+--------------------+--------------------+--------------------+----------+--------------------+----------+--------------------+----------+---------------+----------+---------------+---------------+--------------------+--------------+--------------------+--------------------------+-------------------------------+--------------------+-------------------------+-----------------------------+----------------------------------+-----------------+----------------------+-----------------------+----------------------------+------------------+-----------------------+-------+--------------------+-------+--------------------+-------+---------------+-------+---------------+-----------------+----------------------+------------+--------------------+------------+--------------------+------------+--------------------+------------+--------------------+------------+--------------------+----------------------+---------------------------+\n",
            "only showing top 5 rows\n"
          ]
        },
        {
          "name": "stderr",
          "output_type": "stream",
          "text": [
            "[Stage 14:>                                                         (0 + 1) / 1]\r"
          ]
        },
        {
          "name": "stdout",
          "output_type": "stream",
          "text": [
            "72498\n"
          ]
        },
        {
          "name": "stderr",
          "output_type": "stream",
          "text": [
            "                                                                                \r"
          ]
        }
      ],
      "source": [
        "from pyspark.sql.functions import col, when, isnan, count\n",
        "# 1. Replace the missing values in Salary by median of Salary based on the EMPLOYMENT_TYPE or EMPLOYMENT_TYPE_NAME. If both are missing, then replace\n",
        "\n",
        "from pyspark.sql import Window\n",
        "from pyspark.sql.functions import col, when, isnan, count, expr, median\n",
        "from pyspark.sql import functions as F\n",
        "\n",
        "# Calculate overall median salary\n",
        "overall_median_salary = df.approxQuantile(\"SALARY\", [0.5], 0.01)[0]\n",
        "\n",
        "# Calculate median_salary by EMPLOYMENT_TYPE\n",
        "median_by_employment_type = df.groupBy(\"EMPLOYMENT_TYPE\").agg(\n",
        "    expr(\"percentile_approx(SALARY, 0.5)\").alias(\"median_salary_emp_type\")\n",
        ")\n",
        "\n",
        "# Calculate median salary by EMPLOYMENT_TYPE_NAME\n",
        "median_by_employment_type_name = df.groupBy(\"EMPLOYMENT_TYPE_NAME\").agg(\n",
        "    expr(\"percentile_approx(SALARY, 0.5)\").alias(\"median_salary_emp_type_name\")\n",
        ")\n",
        "\n",
        "# Join median values back to the original dataframe\n",
        "df_salary_imputed = df.join(median_by_employment_type, on=\"EMPLOYMENT_TYPE\", how=\"left\").join(median_by_employment_type_name, on=\"EMPLOYMENT_TYPE_NAME\", how=\"left\")\n",
        "df_salary_imputed.show(5)\n",
        "\n",
        "# Replace missing SALARY values\n",
        "df_salary_imputed = df_salary_imputed.withColumn(\"SALARY\", when(col(\"SALARY\").isNull(),\n",
        "    when(col(\"median_salary_emp_type\").isNotNull(), col(\"median_salary_emp_type\"))\n",
        "    .when(col(\"median_salary_emp_type_name\").isNotNull(), col(\"median_salary_emp_type_name\"))\n",
        "    .otherwise(overall_median_salary)\n",
        ").otherwise(col(\"SALARY\")))\n",
        "\n",
        "\n",
        "print(df_salary_imputed.count())\n"
      ]
    },
    {
      "cell_type": "markdown",
      "id": "54e7b70d",
      "metadata": {},
      "source": [
        "# Feature Engineering\n",
        "\n",
        "Feature Engineering is a crucial step in preparing your data for machine learning. In this lab, we will focus on the following tasks:\n",
        "\n",
        "1. Drop rows with missing values in the target variable and key features.\n",
        "2. By now you are already familiar with the code and the data. Based on your understanding please choose any 3 (my code output has 10) variables as:\n",
        "   1. three continuous variables and, `MIN_YEARS_EXPERIENCE` (total 4, use your best judgment!)\n",
        "   2. two categorical.\n",
        "   3. Your dependent variable (y) is `SALARY`.\n",
        "\n",
        "3. Convert categorical variables into numerical representations using StringIndexer and OneHotEncoder.\n",
        "4. Assemble features into a single vector using VectorAssembler.\n",
        "5. Split the data into training and testing sets.\n",
        "6. You can use pipeline to do the above steps in one go.\n",
        "7. Create a new column `MIN_YEARS_EXPERIENCE_SQ` by squaring the `MIN_YEARS_EXPERIENCE` column.\n",
        "8. Assemble the polynomial features into a new vector column `features_poly` using VectorAssembler.\n",
        "9. Show the final structure of the DataFrame with the new features.\n"
      ]
    },
    {
      "cell_type": "code",
      "execution_count": 3,
      "id": "2503d5fa",
      "metadata": {},
      "outputs": [
        {
          "name": "stderr",
          "output_type": "stream",
          "text": [
            "                                                                                \r"
          ]
        },
        {
          "name": "stdout",
          "output_type": "stream",
          "text": [
            "+--------+--------------------+--------------------+-----------------------------+----------------------+----------------+--------+-------------+-------------------+----------------------+---------------------------+\n",
            "|SALARY  |MIN_YEARS_EXPERIENCE|MAX_YEARS_EXPERIENCE|EDUCATION_LEVELS_NAME        |EMPLOYMENT_TYPE_NAME  |REMOTE_TYPE_NAME|DURATION|IS_INTERNSHIP|COMPANY_IS_STAFFING|median_salary_emp_type|median_salary_emp_type_name|\n",
            "+--------+--------------------+--------------------+-----------------------------+----------------------+----------------+--------+-------------+-------------------+----------------------+---------------------------+\n",
            "|116500.0|2                   |2                   |[\\n  \"Bachelor's degree\"\\n]  |Full-time (> 32 hours)|[None]          |6       |0            |0                  |116500                |116500                     |\n",
            "|116500.0|7                   |7                   |[\\n  \"No Education Listed\"\\n]|Full-time (> 32 hours)|[None]          |18      |0            |1                  |116500                |116500                     |\n",
            "|116500.0|1                   |1                   |[\\n  \"No Education Listed\"\\n]|Full-time (> 32 hours)|[None]          |8       |0            |1                  |116500                |116500                     |\n",
            "|116500.0|1                   |1                   |[\\n  \"Bachelor's degree\"\\n]  |Full-time (> 32 hours)|[None]          |32      |0            |0                  |116500                |116500                     |\n",
            "|131100.0|2                   |2                   |[\\n  \"Bachelor's degree\"\\n]  |Full-time (> 32 hours)|[None]          |11      |0            |0                  |116500                |116500                     |\n",
            "+--------+--------------------+--------------------+-----------------------------+----------------------+----------------+--------+-------------+-------------------+----------------------+---------------------------+\n",
            "only showing top 5 rows\n"
          ]
        },
        {
          "name": "stderr",
          "output_type": "stream",
          "text": [
            "[Stage 30:>                                                         (0 + 1) / 1]\r"
          ]
        },
        {
          "name": "stdout",
          "output_type": "stream",
          "text": [
            "5039\n"
          ]
        },
        {
          "name": "stderr",
          "output_type": "stream",
          "text": [
            "                                                                                \r"
          ]
        }
      ],
      "source": [
        "#| eval: true\n",
        "#| echo: false\n",
        "#| fig-align: center\n",
        "\n",
        "from pyspark.sql.functions import col, pow\n",
        "from pyspark.ml.feature import StringIndexer, OneHotEncoder, VectorAssembler\n",
        "from pyspark.ml import Pipeline\n",
        "from pyspark.sql.functions import col, regexp_replace, trim\n",
        "import ast\n",
        "from pyspark.sql.types import BooleanType, StringType, IntegerType\n",
        "from pyspark.sql.types import IntegerType,DoubleType,DecimalType\n",
        "\n",
        "# Drop rows with NA values in relevant columns\n",
        "regression_df = df_salary_imputed.dropna(subset=[\n",
        "    \"SALARY\", \"MIN_YEARS_EXPERIENCE\", \"MAX_YEARS_EXPERIENCE\",\n",
        "    \"EDUCATION_LEVELS_NAME\", \"EMPLOYMENT_TYPE_NAME\", \"REMOTE_TYPE_NAME\",\n",
        "    \"DURATION\", \"IS_INTERNSHIP\", \"COMPANY_IS_STAFFING\"\n",
        "    ]).select(\n",
        "    \"SALARY\", \"MIN_YEARS_EXPERIENCE\", \"MAX_YEARS_EXPERIENCE\",\n",
        "    \"EDUCATION_LEVELS_NAME\", \"EMPLOYMENT_TYPE_NAME\", \"REMOTE_TYPE_NAME\",\n",
        "    \"DURATION\", \"IS_INTERNSHIP\", \"COMPANY_IS_STAFFING\", \"median_salary_emp_type\", \"median_salary_emp_type_name\")\n",
        "\n",
        "\n",
        "\n",
        "# Categorical columns\n",
        "categorical_cols = [\n",
        "    \"EDUCATION_LEVELS_NAME\", \"EMPLOYMENT_TYPE_NAME\", \"REMOTE_TYPE_NAME\",\n",
        "    \"IS_INTERNSHIP\", \"COMPANY_IS_STAFFING\"\n",
        "]\n",
        "\n",
        "regression_df=regression_df.withColumn(\"IS_INTERNSHIP\", col(\"IS_INTERNSHIP\").cast(IntegerType()))\n",
        "regression_df=regression_df.withColumn(\"COMPANY_IS_STAFFING\", col(\"COMPANY_IS_STAFFING\").cast(IntegerType()))\n",
        "\n",
        "#convert duration to numeric (ind days)\n",
        "regression_df = regression_df.withColumn(\"DURATION\", col(\"DURATION\").cast(IntegerType()))\n",
        "\n",
        "regression_df.show(5, truncate=False)\n",
        "\n",
        "print(regression_df.count())\n",
        "\n",
        "\n",
        "\n",
        "#regression_df.show(5, truncate=False)\n",
        "# regression_df.count()   2243\n",
        "\n",
        "\n",
        "\n"
      ]
    },
    {
      "cell_type": "code",
      "execution_count": 4,
      "id": "ba70e080",
      "metadata": {},
      "outputs": [
        {
          "data": {
            "text/plain": [
              "StructType([StructField('DURATION', IntegerType(), True)])"
            ]
          },
          "execution_count": 4,
          "metadata": {},
          "output_type": "execute_result"
        }
      ],
      "source": [
        "regression_df.select(\"DURATION\").schema"
      ]
    },
    {
      "cell_type": "markdown",
      "id": "5040b01f",
      "metadata": {},
      "source": [
        "# Linear Regression Model (OLS)"
      ]
    },
    {
      "cell_type": "code",
      "execution_count": 5,
      "id": "d47b256b",
      "metadata": {},
      "outputs": [
        {
          "name": "stderr",
          "output_type": "stream",
          "text": [
            "                                                                                \r"
          ]
        },
        {
          "name": "stdout",
          "output_type": "stream",
          "text": [
            "+--------+--------------------+--------------------+---------------------+----------------------+----------------+--------+-------------+-------------------+----------------------+---------------------------+-------------------------+------------------------+--------------------+-----------------+-----------------------+-------------------------+------------------------+--------------------+-----------------+-----------------------+-------------------------------------------------------------+\n",
            "|SALARY  |MIN_YEARS_EXPERIENCE|MAX_YEARS_EXPERIENCE|EDUCATION_LEVELS_NAME|EMPLOYMENT_TYPE_NAME  |REMOTE_TYPE_NAME|DURATION|IS_INTERNSHIP|COMPANY_IS_STAFFING|median_salary_emp_type|median_salary_emp_type_name|EDUCATION_LEVELS_NAME_idx|EMPLOYMENT_TYPE_NAME_idx|REMOTE_TYPE_NAME_idx|IS_INTERNSHIP_idx|COMPANY_IS_STAFFING_idx|EDUCATION_LEVELS_NAME_vec|EMPLOYMENT_TYPE_NAME_vec|REMOTE_TYPE_NAME_vec|IS_INTERNSHIP_vec|COMPANY_IS_STAFFING_vec|features                                                     |\n",
            "+--------+--------------------+--------------------+---------------------+----------------------+----------------+--------+-------------+-------------------+----------------------+---------------------------+-------------------------+------------------------+--------------------+-----------------+-----------------------+-------------------------+------------------------+--------------------+-----------------+-----------------------+-------------------------------------------------------------+\n",
            "|116500.0|2                   |2                   |\"Bachelor's degree\"  |Full-time (> 32 hours)|[None]          |6       |0            |0                  |116500                |116500                     |0.0                      |0.0                     |0.0                 |0.0              |0.0                    |(18,[0],[1.0])           |(2,[0],[1.0])           |(3,[0],[1.0])       |(1,[0],[1.0])    |(1,[0],[1.0])          |(28,[0,1,2,3,21,23,26,27],[2.0,2.0,6.0,1.0,1.0,1.0,1.0,1.0]) |\n",
            "|116500.0|7                   |7                   |\"No Education Listed\"|Full-time (> 32 hours)|[None]          |18      |0            |1                  |116500                |116500                     |1.0                      |0.0                     |0.0                 |0.0              |1.0                    |(18,[1],[1.0])           |(2,[0],[1.0])           |(3,[0],[1.0])       |(1,[0],[1.0])    |(1,[],[])              |(28,[0,1,2,4,21,23,26],[7.0,7.0,18.0,1.0,1.0,1.0,1.0])       |\n",
            "|116500.0|1                   |1                   |\"No Education Listed\"|Full-time (> 32 hours)|[None]          |8       |0            |1                  |116500                |116500                     |1.0                      |0.0                     |0.0                 |0.0              |1.0                    |(18,[1],[1.0])           |(2,[0],[1.0])           |(3,[0],[1.0])       |(1,[0],[1.0])    |(1,[],[])              |(28,[0,1,2,4,21,23,26],[1.0,1.0,8.0,1.0,1.0,1.0,1.0])        |\n",
            "|116500.0|1                   |1                   |\"Bachelor's degree\"  |Full-time (> 32 hours)|[None]          |32      |0            |0                  |116500                |116500                     |0.0                      |0.0                     |0.0                 |0.0              |0.0                    |(18,[0],[1.0])           |(2,[0],[1.0])           |(3,[0],[1.0])       |(1,[0],[1.0])    |(1,[0],[1.0])          |(28,[0,1,2,3,21,23,26,27],[1.0,1.0,32.0,1.0,1.0,1.0,1.0,1.0])|\n",
            "|131100.0|2                   |2                   |\"Bachelor's degree\"  |Full-time (> 32 hours)|[None]          |11      |0            |0                  |116500                |116500                     |0.0                      |0.0                     |0.0                 |0.0              |0.0                    |(18,[0],[1.0])           |(2,[0],[1.0])           |(3,[0],[1.0])       |(1,[0],[1.0])    |(1,[0],[1.0])          |(28,[0,1,2,3,21,23,26,27],[2.0,2.0,11.0,1.0,1.0,1.0,1.0,1.0])|\n",
            "+--------+--------------------+--------------------+---------------------+----------------------+----------------+--------+-------------+-------------------+----------------------+---------------------------+-------------------------+------------------------+--------------------+-----------------+-----------------------+-------------------------+------------------------+--------------------+-----------------+-----------------------+-------------------------------------------------------------+\n",
            "only showing top 5 rows\n"
          ]
        },
        {
          "name": "stderr",
          "output_type": "stream",
          "text": [
            "                                                                                \r"
          ]
        },
        {
          "name": "stdout",
          "output_type": "stream",
          "text": [
            "+--------+-------------------------------------------------------------+\n",
            "|SALARY  |features                                                     |\n",
            "+--------+-------------------------------------------------------------+\n",
            "|116500.0|(28,[0,1,2,3,21,23,26,27],[2.0,2.0,6.0,1.0,1.0,1.0,1.0,1.0]) |\n",
            "|116500.0|(28,[0,1,2,4,21,23,26],[7.0,7.0,18.0,1.0,1.0,1.0,1.0])       |\n",
            "|116500.0|(28,[0,1,2,4,21,23,26],[1.0,1.0,8.0,1.0,1.0,1.0,1.0])        |\n",
            "|116500.0|(28,[0,1,2,3,21,23,26,27],[1.0,1.0,32.0,1.0,1.0,1.0,1.0,1.0])|\n",
            "|131100.0|(28,[0,1,2,3,21,23,26,27],[2.0,2.0,11.0,1.0,1.0,1.0,1.0,1.0])|\n",
            "+--------+-------------------------------------------------------------+\n",
            "only showing top 5 rows\n"
          ]
        }
      ],
      "source": [
        "# Clean Education Levels by cleaning \\n and array brackets\n",
        "from pyspark.sql.functions import regexp_replace, trim\n",
        "regression_df = regression_df.withColumn(\"EDUCATION_LEVELS_NAME\",trim(regexp_replace(col(\"EDUCATION_LEVELS_NAME\"), r\"[\\[\\]\\n]\", \"\")))\n",
        "\n",
        "\n",
        "# Index and One-Hot Encode\n",
        "indexers = [StringIndexer(inputCol=col, outputCol=f\"{col}_idx\", handleInvalid='skip') for col in categorical_cols]\n",
        "encoders = [OneHotEncoder(inputCol=f\"{col}_idx\", outputCol=f\"{col}_vec\") for col in categorical_cols]\n",
        "\n",
        "\n",
        "# Assemble base features (for GLR and Random Forest)\n",
        "assembler = VectorAssembler(\n",
        "    inputCols=[\n",
        "        \"MIN_YEARS_EXPERIENCE\", \"MAX_YEARS_EXPERIENCE\", \"DURATION\"\n",
        "    ] + [f\"{col}_vec\" for col in categorical_cols],\n",
        "    outputCol=\"features\"\n",
        ")\n",
        "\n",
        "pipeline = Pipeline(stages=indexers + encoders + [assembler])\n",
        "regression_data = pipeline.fit(regression_df).transform(regression_df)\n",
        "\n",
        "regression_data.show(5, truncate=False)\n",
        "\n",
        "regression_data.select(\"SALARY\", \"features\").show(5, truncate=False)"
      ]
    },
    {
      "cell_type": "markdown",
      "id": "f89b51f7",
      "metadata": {},
      "source": [
        "# Train/Test Split\n",
        "\n",
        "- Perform a random split of the data into training and testing sets.\n",
        "- Set a random seed for reproducibility.\n",
        "- You can choose a number for splitting to your liking, justify your choice.\n"
      ]
    },
    {
      "cell_type": "code",
      "execution_count": 6,
      "id": "468386d0",
      "metadata": {},
      "outputs": [
        {
          "data": {
            "text/plain": [
              "StructType([StructField('DURATION', IntegerType(), True)])"
            ]
          },
          "execution_count": 6,
          "metadata": {},
          "output_type": "execute_result"
        }
      ],
      "source": [
        "regression_data.select(\"DURATION\").schema"
      ]
    },
    {
      "cell_type": "code",
      "execution_count": 7,
      "id": "8b09ed4b",
      "metadata": {},
      "outputs": [
        {
          "name": "stderr",
          "output_type": "stream",
          "text": [
            "                                                                                \r"
          ]
        },
        {
          "name": "stdout",
          "output_type": "stream",
          "text": [
            "(5039, 22)\n"
          ]
        },
        {
          "name": "stderr",
          "output_type": "stream",
          "text": [
            "                                                                                \r"
          ]
        },
        {
          "name": "stdout",
          "output_type": "stream",
          "text": [
            "(4070, 22)\n"
          ]
        },
        {
          "name": "stderr",
          "output_type": "stream",
          "text": [
            "[Stage 131:>                                                        (0 + 1) / 1]\r"
          ]
        },
        {
          "name": "stdout",
          "output_type": "stream",
          "text": [
            "(969, 22)\n"
          ]
        },
        {
          "name": "stderr",
          "output_type": "stream",
          "text": [
            "                                                                                \r"
          ]
        }
      ],
      "source": [
        "#| eval: true\n",
        "#| echo: false\n",
        "#| fig-align: center\n",
        "\n",
        "# Split Data\n",
        "regression_train, regression_test = regression_data.randomSplit([0.8, 0.2], seed=42)\n",
        "print((regression_data.count(), len(regression_data.columns)))\n",
        "print((regression_train.count(), len(regression_train.columns)))\n",
        "print((regression_test.count(), len(regression_test.columns)))\n"
      ]
    },
    {
      "cell_type": "markdown",
      "id": "9ea4325d",
      "metadata": {},
      "source": [
        "## Linear Regression (Get this model from Lab 5.2)\n",
        "\n",
        "- Train a **Linear Regression** model using the training data.  \n",
        "  This model is from Lab 5.2 with three more added features.  \n",
        "- Make sure to use the **features** column from the assembled DataFrame to fit the model.  \n",
        "- You will run into an important issue here. Please make an effort in figuring it out by yourself.  \n",
        "  This is one of the most asked interview questions in CapitalOne's management recruiting program.  \n",
        "- Evaluate the model on the test data.  \n",
        "- Print the coefficients, intercept, **R²**, **RMSE**, and **MAE**.  \n",
        "- Use the **summary** object to extract the coefficients and their standard errors, t-values, and p-values.  \n",
        "- Create a DataFrame to display the coefficients, standard errors, t-values, p-values, and confidence intervals.  \n",
        "- Interpret the coefficients and their significance, and explain the model performance metrics.\n"
      ]
    },
    {
      "cell_type": "code",
      "execution_count": 8,
      "id": "445792d8",
      "metadata": {},
      "outputs": [
        {
          "name": "stderr",
          "output_type": "stream",
          "text": [
            "25/10/05 21:55:06 WARN InstanceBuilder: Failed to load implementation from:dev.ludovic.netlib.blas.JNIBLAS\n",
            "25/10/05 21:55:06 WARN InstanceBuilder: Failed to load implementation from:dev.ludovic.netlib.lapack.JNILAPACK\n"
          ]
        }
      ],
      "source": [
        "from pyspark.ml.regression import GeneralizedLinearRegression\n",
        "\n",
        "feature_names = assembler.getInputCols()\n",
        "\n",
        "glr = GeneralizedLinearRegression(\n",
        "    featuresCol=\"features\",\n",
        "    labelCol=\"SALARY\",\n",
        "    family=\"gaussian\", # normal distribution\n",
        "    link=\"identity\", # standard linear regression\n",
        "    maxIter=10, # number of iterations for least squares\n",
        "    regParam=0.3 # regularization parameter (L2 regularization by default)\n",
        ")\n",
        "\n",
        "glr_model = glr.fit(regression_train)\n",
        "summary = glr_model.summary\n"
      ]
    },
    {
      "cell_type": "code",
      "execution_count": 9,
      "id": "348e9bd2",
      "metadata": {},
      "outputs": [
        {
          "data": {
            "text/plain": [
              "StructType([StructField('DURATION', IntegerType(), True)])"
            ]
          },
          "execution_count": 9,
          "metadata": {},
          "output_type": "execute_result"
        }
      ],
      "source": [
        "regression_train.select(\"DURATION\").schema"
      ]
    },
    {
      "cell_type": "code",
      "execution_count": 10,
      "id": "5400c83e",
      "metadata": {},
      "outputs": [
        {
          "name": "stdout",
          "output_type": "stream",
          "text": [
            "Intercept: 86495.3805\n",
            "Coefficients:\n",
            " Feature 1: 1611.1414\n",
            " Feature 2: 1611.1414\n",
            " Feature 3: 28.0650\n",
            " Feature 4: 1247.8481\n",
            " Feature 5: 4389.5997\n",
            " Feature 6: 9616.4514\n",
            " Feature 7: -25792.4349\n",
            " Feature 8: 14128.7132\n",
            " Feature 9: -10895.2795\n",
            " Feature 10: -1698.1255\n",
            " Feature 11: 9142.9649\n",
            " Feature 12: -12473.3292\n",
            " Feature 13: 1370.8466\n",
            " Feature 14: -16521.6858\n",
            " Feature 15: 33095.9081\n",
            " Feature 16: -9798.3842\n",
            " Feature 17: -5106.5752\n",
            " Feature 18: 3395.8151\n",
            " Feature 19: 5000.3347\n",
            " Feature 20: -27518.5037\n",
            " Feature 21: 2139.5134\n",
            " Feature 22: 6781.0001\n",
            " Feature 23: -6406.0896\n",
            " Feature 24: 3691.5593\n",
            " Feature 25: 7833.5350\n",
            " Feature 26: 2120.1061\n",
            " Feature 27: -2233.4015\n",
            " Feature 28: -38.2065\n"
          ]
        }
      ],
      "source": [
        "# Coefficients and Intercept\n",
        "print(\"Intercept: {:.4f}\".format(glr_model.intercept))\n",
        "print(\"Coefficients:\")\n",
        "for i, coef in enumerate(glr_model.coefficients):\n",
        "    print(f\" Feature {i + 1}: {coef:.4f}\")\n"
      ]
    },
    {
      "cell_type": "code",
      "execution_count": 11,
      "id": "816a0214",
      "metadata": {},
      "outputs": [
        {
          "name": "stdout",
          "output_type": "stream",
          "text": [
            "\n",
            "--- Regression Summary ---\n"
          ]
        },
        {
          "name": "stderr",
          "output_type": "stream",
          "text": [
            "[Stage 151:>                                                        (0 + 1) / 1]\r"
          ]
        },
        {
          "name": "stdout",
          "output_type": "stream",
          "text": [
            "Coefficient Standard Errors: ['25276.5887', '25276.5887', '23.0766', '20919.0316', '20935.4220', '20938.8229', '21078.7774', '21081.4962', '21097.5086', '21109.1394', '21269.3946', '21346.9665', '21574.6969', '21648.7352', '21749.9860', '22066.3414', '22082.7237', '22639.3900', '22401.1834', '25723.4373', '25718.2598', '3157.3427', '3732.8539', '3335.2674', '3406.5553', '3789.6546', '5036.6098', '917.1197', '22023.8482']\n",
            "T Values: ['0.0637', '0.0637', '1.2162', '0.0597', '0.2097', '0.4593', '-1.2236', '0.6702', '-0.5164', '-0.0804', '0.4299', '-0.5843', '0.0635', '-0.7632', '1.5217', '-0.4440', '-0.2312', '0.1500', '0.2232', '-1.0698', '0.0832', '2.1477', '-1.7161', '1.1068', '2.2995', '0.5594', '-0.4434', '-0.0417', '3.9274']\n",
            "P Values: ['0.9492', '0.9492', '0.2240', '0.9524', '0.8339', '0.6461', '0.2212', '0.5028', '0.6056', '0.9359', '0.6673', '0.5590', '0.9493', '0.4454', '0.1282', '0.6570', '0.8171', '0.8808', '0.8234', '0.2848', '0.9337', '0.0318', '0.0862', '0.2684', '0.0215', '0.5759', '0.6575', '0.9668', '0.0001']\n"
          ]
        },
        {
          "name": "stderr",
          "output_type": "stream",
          "text": [
            "                                                                                \r"
          ]
        }
      ],
      "source": [
        "# Summary stats\n",
        "print(\"\\n--- Regression Summary ---\")\n",
        "print(\"Coefficient Standard Errors:\", [f\"{val:.4f}\" for val in summary.coefficientStandardErrors])\n",
        "print(\"T Values:\", [f\"{val:.4f}\" for val in summary.tValues])\n",
        "print(\"P Values:\", [f\"{val:.4f}\" for val in summary.pValues])\n"
      ]
    },
    {
      "cell_type": "code",
      "execution_count": 12,
      "id": "dd1634f9",
      "metadata": {},
      "outputs": [
        {
          "name": "stderr",
          "output_type": "stream",
          "text": [
            "                                                                                \r"
          ]
        },
        {
          "name": "stdout",
          "output_type": "stream",
          "text": [
            "Null Deviance: 2321265663379.3027\n",
            "Residual DF Null: 4069\n",
            "Deviance: 1808433477867.9951\n",
            "Residual DF: 4041\n"
          ]
        },
        {
          "name": "stderr",
          "output_type": "stream",
          "text": [
            "[Stage 172:>                                                        (0 + 1) / 1]\r"
          ]
        },
        {
          "name": "stdout",
          "output_type": "stream",
          "text": [
            "AIC: 92652.3408\n"
          ]
        },
        {
          "name": "stderr",
          "output_type": "stream",
          "text": [
            "                                                                                \r"
          ]
        }
      ],
      "source": [
        "# print(f\"\\nDispersion: {summary.dispersion:.4f}\")\n",
        "print(f\"Null Deviance: {summary.nullDeviance:.4f}\")\n",
        "print(f\"Residual DF Null: {summary.residualDegreeOfFreedomNull}\")\n",
        "print(f\"Deviance: {summary.deviance:.4f}\")\n",
        "print(f\"Residual DF: {summary.residualDegreeOfFreedom}\")\n",
        "print(f\"AIC: {summary.aic:.4f}\")\n"
      ]
    },
    {
      "cell_type": "code",
      "execution_count": 13,
      "id": "538637f7",
      "metadata": {},
      "outputs": [
        {
          "name": "stdout",
          "output_type": "stream",
          "text": [
            "---This is Diagnostic check, No need to print it in the final doc---\n",
            "Length of features: 29\n",
            "Length of coefs: 29\n",
            "Length of se: 29\n",
            "Length of tvals: 29\n",
            "Length of pvals: 29\n"
          ]
        }
      ],
      "source": [
        "# 1. Pull feature names directly from Java backend\n",
        "feature_names = summary._call_java(\"featureNames\")\n",
        "\n",
        "# 2. Construct full table including intercept\n",
        "features = [\"Intercept\"] + feature_names\n",
        "coefs = [glr_model.intercept] + list(glr_model.coefficients)\n",
        "se = list(summary.coefficientStandardErrors)\n",
        "tvals = list(summary.tValues)\n",
        "pvals = list(summary.pValues)\n",
        "\n",
        "#This block ensures all regression output values (coefficients, errors, t-values, p-values) align correctly before building a summary table.\n",
        "print(\"---This is Diagnostic check, No need to print it in the final doc---\")\n",
        "print(\"Length of features:\", len(features))\n",
        "print(\"Length of coefs:\", len(coefs))\n",
        "print(\"Length of se:\", len(se))\n",
        "print(\"Length of tvals:\", len(tvals))\n",
        "print(\"Length of pvals:\", len(pvals))\n"
      ]
    },
    {
      "cell_type": "code",
      "execution_count": 14,
      "id": "75d5542f",
      "metadata": {},
      "outputs": [
        {
          "data": {
            "text/html": [
              "<table border=\"1\" class=\"dataframe\">\n",
              "  <thead>\n",
              "    <tr style=\"text-align: right;\">\n",
              "      <th></th>\n",
              "      <th>Feature</th>\n",
              "      <th>Estimate</th>\n",
              "      <th>Std Error</th>\n",
              "      <th>t-stat</th>\n",
              "      <th>p-Value</th>\n",
              "    </tr>\n",
              "  </thead>\n",
              "  <tbody>\n",
              "    <tr>\n",
              "      <th>0</th>\n",
              "      <td>Intercept</td>\n",
              "      <td>86495.3805</td>\n",
              "      <td>25276.5887</td>\n",
              "      <td>0.0637</td>\n",
              "      <td>0.9492</td>\n",
              "    </tr>\n",
              "    <tr>\n",
              "      <th>1</th>\n",
              "      <td>MIN_YEARS_EXPERIENCE</td>\n",
              "      <td>1611.1414</td>\n",
              "      <td>25276.5887</td>\n",
              "      <td>0.0637</td>\n",
              "      <td>0.9492</td>\n",
              "    </tr>\n",
              "    <tr>\n",
              "      <th>2</th>\n",
              "      <td>MAX_YEARS_EXPERIENCE</td>\n",
              "      <td>1611.1414</td>\n",
              "      <td>23.0766</td>\n",
              "      <td>1.2162</td>\n",
              "      <td>0.2240</td>\n",
              "    </tr>\n",
              "    <tr>\n",
              "      <th>3</th>\n",
              "      <td>DURATION</td>\n",
              "      <td>28.0650</td>\n",
              "      <td>20919.0316</td>\n",
              "      <td>0.0597</td>\n",
              "      <td>0.9524</td>\n",
              "    </tr>\n",
              "    <tr>\n",
              "      <th>4</th>\n",
              "      <td>EDUCATION_LEVELS_NAME_vec_\"Bachelor's degree\"</td>\n",
              "      <td>1247.8481</td>\n",
              "      <td>20935.4220</td>\n",
              "      <td>0.2097</td>\n",
              "      <td>0.8339</td>\n",
              "    </tr>\n",
              "    <tr>\n",
              "      <th>5</th>\n",
              "      <td>EDUCATION_LEVELS_NAME_vec_\"No Education Listed\"</td>\n",
              "      <td>4389.5997</td>\n",
              "      <td>20938.8229</td>\n",
              "      <td>0.4593</td>\n",
              "      <td>0.6461</td>\n",
              "    </tr>\n",
              "    <tr>\n",
              "      <th>6</th>\n",
              "      <td>EDUCATION_LEVELS_NAME_vec_\"Bachelor's degree\",  \"Master's degree\"</td>\n",
              "      <td>9616.4514</td>\n",
              "      <td>21078.7774</td>\n",
              "      <td>-1.2236</td>\n",
              "      <td>0.2212</td>\n",
              "    </tr>\n",
              "    <tr>\n",
              "      <th>7</th>\n",
              "      <td>EDUCATION_LEVELS_NAME_vec_\"High school or GED\",  \"Bachelor's degree\"</td>\n",
              "      <td>-25792.4349</td>\n",
              "      <td>21081.4962</td>\n",
              "      <td>0.6702</td>\n",
              "      <td>0.5028</td>\n",
              "    </tr>\n",
              "    <tr>\n",
              "      <th>8</th>\n",
              "      <td>EDUCATION_LEVELS_NAME_vec_\"Bachelor's degree\",  \"Master's degree\",  \"Ph.D. or professional degree\"</td>\n",
              "      <td>14128.7132</td>\n",
              "      <td>21097.5086</td>\n",
              "      <td>-0.5164</td>\n",
              "      <td>0.6056</td>\n",
              "    </tr>\n",
              "    <tr>\n",
              "      <th>9</th>\n",
              "      <td>EDUCATION_LEVELS_NAME_vec_\"High school or GED\"</td>\n",
              "      <td>-10895.2795</td>\n",
              "      <td>21109.1394</td>\n",
              "      <td>-0.0804</td>\n",
              "      <td>0.9359</td>\n",
              "    </tr>\n",
              "    <tr>\n",
              "      <th>10</th>\n",
              "      <td>EDUCATION_LEVELS_NAME_vec_\"Associate degree\",  \"Bachelor's degree\"</td>\n",
              "      <td>-1698.1255</td>\n",
              "      <td>21269.3946</td>\n",
              "      <td>0.4299</td>\n",
              "      <td>0.6673</td>\n",
              "    </tr>\n",
              "    <tr>\n",
              "      <th>11</th>\n",
              "      <td>EDUCATION_LEVELS_NAME_vec_\"Master's degree\"</td>\n",
              "      <td>9142.9649</td>\n",
              "      <td>21346.9665</td>\n",
              "      <td>-0.5843</td>\n",
              "      <td>0.5590</td>\n",
              "    </tr>\n",
              "    <tr>\n",
              "      <th>12</th>\n",
              "      <td>EDUCATION_LEVELS_NAME_vec_\"Associate degree\"</td>\n",
              "      <td>-12473.3292</td>\n",
              "      <td>21574.6969</td>\n",
              "      <td>0.0635</td>\n",
              "      <td>0.9493</td>\n",
              "    </tr>\n",
              "    <tr>\n",
              "      <th>13</th>\n",
              "      <td>EDUCATION_LEVELS_NAME_vec_\"Associate degree\",  \"Bachelor's degree\",  \"Master's degree\"</td>\n",
              "      <td>1370.8466</td>\n",
              "      <td>21648.7352</td>\n",
              "      <td>-0.7632</td>\n",
              "      <td>0.4454</td>\n",
              "    </tr>\n",
              "    <tr>\n",
              "      <th>14</th>\n",
              "      <td>EDUCATION_LEVELS_NAME_vec_\"Associate degree\",  \"Bachelor's degree\",  \"Master's degree\",  \"Ph.D. or professional degree\"</td>\n",
              "      <td>-16521.6858</td>\n",
              "      <td>21749.9860</td>\n",
              "      <td>1.5217</td>\n",
              "      <td>0.1282</td>\n",
              "    </tr>\n",
              "    <tr>\n",
              "      <th>15</th>\n",
              "      <td>EDUCATION_LEVELS_NAME_vec_\"Bachelor's degree\",  \"Ph.D. or professional degree\"</td>\n",
              "      <td>33095.9081</td>\n",
              "      <td>22066.3414</td>\n",
              "      <td>-0.4440</td>\n",
              "      <td>0.6570</td>\n",
              "    </tr>\n",
              "    <tr>\n",
              "      <th>16</th>\n",
              "      <td>EDUCATION_LEVELS_NAME_vec_\"High school or GED\",  \"Associate degree\",  \"Bachelor's degree\"</td>\n",
              "      <td>-9798.3842</td>\n",
              "      <td>22082.7237</td>\n",
              "      <td>-0.2312</td>\n",
              "      <td>0.8171</td>\n",
              "    </tr>\n",
              "    <tr>\n",
              "      <th>17</th>\n",
              "      <td>EDUCATION_LEVELS_NAME_vec_\"High school or GED\",  \"Bachelor's degree\",  \"Master's degree\"</td>\n",
              "      <td>-5106.5752</td>\n",
              "      <td>22639.3900</td>\n",
              "      <td>0.1500</td>\n",
              "      <td>0.8808</td>\n",
              "    </tr>\n",
              "    <tr>\n",
              "      <th>18</th>\n",
              "      <td>EDUCATION_LEVELS_NAME_vec_\"Master's degree\",  \"Ph.D. or professional degree\"</td>\n",
              "      <td>3395.8151</td>\n",
              "      <td>22401.1834</td>\n",
              "      <td>0.2232</td>\n",
              "      <td>0.8234</td>\n",
              "    </tr>\n",
              "    <tr>\n",
              "      <th>19</th>\n",
              "      <td>EDUCATION_LEVELS_NAME_vec_\"High school or GED\",  \"Associate degree\"</td>\n",
              "      <td>5000.3347</td>\n",
              "      <td>25723.4373</td>\n",
              "      <td>-1.0698</td>\n",
              "      <td>0.2848</td>\n",
              "    </tr>\n",
              "    <tr>\n",
              "      <th>20</th>\n",
              "      <td>EDUCATION_LEVELS_NAME_vec_\"High school or GED\",  \"Associate degree\",  \"Bachelor's degree\",  \"Master's degree\"</td>\n",
              "      <td>-27518.5037</td>\n",
              "      <td>25718.2598</td>\n",
              "      <td>0.0832</td>\n",
              "      <td>0.9337</td>\n",
              "    </tr>\n",
              "    <tr>\n",
              "      <th>21</th>\n",
              "      <td>EDUCATION_LEVELS_NAME_vec_\"Ph.D. or professional degree\"</td>\n",
              "      <td>2139.5134</td>\n",
              "      <td>3157.3427</td>\n",
              "      <td>2.1477</td>\n",
              "      <td>0.0318</td>\n",
              "    </tr>\n",
              "    <tr>\n",
              "      <th>22</th>\n",
              "      <td>EMPLOYMENT_TYPE_NAME_vec_Full-time (&gt; 32 hours)</td>\n",
              "      <td>6781.0001</td>\n",
              "      <td>3732.8539</td>\n",
              "      <td>-1.7161</td>\n",
              "      <td>0.0862</td>\n",
              "    </tr>\n",
              "    <tr>\n",
              "      <th>23</th>\n",
              "      <td>EMPLOYMENT_TYPE_NAME_vec_Part-time (â‰¤ 32 hours)</td>\n",
              "      <td>-6406.0896</td>\n",
              "      <td>3335.2674</td>\n",
              "      <td>1.1068</td>\n",
              "      <td>0.2684</td>\n",
              "    </tr>\n",
              "    <tr>\n",
              "      <th>24</th>\n",
              "      <td>REMOTE_TYPE_NAME_vec_[None]</td>\n",
              "      <td>3691.5593</td>\n",
              "      <td>3406.5553</td>\n",
              "      <td>2.2995</td>\n",
              "      <td>0.0215</td>\n",
              "    </tr>\n",
              "    <tr>\n",
              "      <th>25</th>\n",
              "      <td>REMOTE_TYPE_NAME_vec_Remote</td>\n",
              "      <td>7833.5350</td>\n",
              "      <td>3789.6546</td>\n",
              "      <td>0.5594</td>\n",
              "      <td>0.5759</td>\n",
              "    </tr>\n",
              "    <tr>\n",
              "      <th>26</th>\n",
              "      <td>REMOTE_TYPE_NAME_vec_Hybrid Remote</td>\n",
              "      <td>2120.1061</td>\n",
              "      <td>5036.6098</td>\n",
              "      <td>-0.4434</td>\n",
              "      <td>0.6575</td>\n",
              "    </tr>\n",
              "    <tr>\n",
              "      <th>27</th>\n",
              "      <td>IS_INTERNSHIP_vec_0</td>\n",
              "      <td>-2233.4015</td>\n",
              "      <td>917.1197</td>\n",
              "      <td>-0.0417</td>\n",
              "      <td>0.9668</td>\n",
              "    </tr>\n",
              "    <tr>\n",
              "      <th>28</th>\n",
              "      <td>COMPANY_IS_STAFFING_vec_0</td>\n",
              "      <td>-38.2065</td>\n",
              "      <td>22023.8482</td>\n",
              "      <td>3.9274</td>\n",
              "      <td>0.0001</td>\n",
              "    </tr>\n",
              "  </tbody>\n",
              "</table>"
            ],
            "text/plain": [
              "<IPython.core.display.HTML object>"
            ]
          },
          "execution_count": 14,
          "metadata": {},
          "output_type": "execute_result"
        }
      ],
      "source": [
        "import pandas as pd\n",
        "from tabulate import tabulate\n",
        "from IPython.display import HTML\n",
        "\n",
        "coef_table = pd.DataFrame({\n",
        "    \"Feature\": features,\n",
        "    \"Estimate\": [f\"{v:.4f}\" if v is not None else None for v in coefs],\n",
        "    \"Std Error\": [f\"{v:.4f}\" if v is not None else None for v in se],\n",
        "    \"t-stat\": [f\"{v:.4f}\" if v is not None else None for v in tvals],\n",
        "    \"p-Value\": [f\"{v:.4f}\" if v is not None else None for v in pvals]\n",
        "})\n",
        "\n",
        "# 4. Save for report\n",
        "coef_table.to_csv(\"output/glr_summary.csv\", index=False)\n",
        "\n",
        "# 5. Optional pretty print\n",
        "HTML(coef_table.to_html())\n"
      ]
    },
    {
      "cell_type": "code",
      "execution_count": 15,
      "id": "6c36e861",
      "metadata": {},
      "outputs": [
        {
          "name": "stdout",
          "output_type": "stream",
          "text": [
            "-23538.0 26772.0\n"
          ]
        }
      ],
      "source": [
        "print(1617.0 - 25155.0, 1617.0 + 25155.0)\n"
      ]
    },
    {
      "cell_type": "code",
      "execution_count": 18,
      "id": "1060a2c5",
      "metadata": {},
      "outputs": [
        {
          "name": "stderr",
          "output_type": "stream",
          "text": [
            "                                                                                \r"
          ]
        },
        {
          "name": "stdout",
          "output_type": "stream",
          "text": [
            "+--------+-------------------------------------------------------------------+\n",
            "|SALARY  |features_poly                                                      |\n",
            "+--------+-------------------------------------------------------------------+\n",
            "|116500.0|(29,[0,1,2,3,4,22,24,27,28],[2.0,4.0,2.0,6.0,1.0,1.0,1.0,1.0,1.0]) |\n",
            "|116500.0|(29,[0,1,2,3,5,22,24,27],[7.0,49.0,7.0,18.0,1.0,1.0,1.0,1.0])      |\n",
            "|116500.0|(29,[0,1,2,3,5,22,24,27],[1.0,1.0,1.0,8.0,1.0,1.0,1.0,1.0])        |\n",
            "|116500.0|(29,[0,1,2,3,4,22,24,27,28],[1.0,1.0,1.0,32.0,1.0,1.0,1.0,1.0,1.0])|\n",
            "|131100.0|(29,[0,1,2,3,4,22,24,27,28],[2.0,4.0,2.0,11.0,1.0,1.0,1.0,1.0,1.0])|\n",
            "+--------+-------------------------------------------------------------------+\n",
            "only showing top 5 rows\n"
          ]
        }
      ],
      "source": [
        "#| eval: true\n",
        "#| echo: false\n",
        "#| fig-align: center\n",
        "\n",
        "# Index and One-Hot Encode\n",
        "# Create squared term for Polynomial Regression\n",
        "poly_data = regression_data.withColumn(\"MAX_YEARS_EXPERIENCE_SQ\", pow(col(\"MAX_YEARS_EXPERIENCE\"), 2))\n",
        "\n",
        "# Assemble polynomial features\n",
        "assembler_poly = VectorAssembler(\n",
        "    inputCols=[\n",
        "        \"MIN_YEARS_EXPERIENCE\", \"MAX_YEARS_EXPERIENCE_SQ\", \"MAX_YEARS_EXPERIENCE\",\n",
        "        \"DURATION\"\n",
        "    ] + [f\"{col}_vec\" for col in categorical_cols],\n",
        "    outputCol=\"features_poly\"\n",
        ")\n",
        "\n",
        "poly_data = assembler_poly.transform(poly_data)\n",
        "\n",
        "# Show final structure\n",
        "poly_data.select(\"SALARY\",  \"features_poly\").show(5, truncate=False) #\"SALARY\", \"features\", \"features_poly\"\n"
      ]
    },
    {
      "cell_type": "code",
      "execution_count": 19,
      "id": "f56d9104",
      "metadata": {},
      "outputs": [
        {
          "name": "stderr",
          "output_type": "stream",
          "text": [
            "                                                                                \r"
          ]
        },
        {
          "name": "stdout",
          "output_type": "stream",
          "text": [
            "(5039, 24)\n"
          ]
        },
        {
          "name": "stderr",
          "output_type": "stream",
          "text": [
            "                                                                                \r"
          ]
        },
        {
          "name": "stdout",
          "output_type": "stream",
          "text": [
            "(4070, 24)\n"
          ]
        },
        {
          "name": "stderr",
          "output_type": "stream",
          "text": [
            "[Stage 218:>                                                        (0 + 1) / 1]\r"
          ]
        },
        {
          "name": "stdout",
          "output_type": "stream",
          "text": [
            "(969, 24)\n"
          ]
        },
        {
          "name": "stderr",
          "output_type": "stream",
          "text": [
            "                                                                                \r"
          ]
        }
      ],
      "source": [
        "# Split Data\n",
        "polyreg_train, polyreg_test = poly_data.randomSplit([0.8, 0.2], seed=42)\n",
        "print((poly_data.count(), len(poly_data.columns)))\n",
        "print((polyreg_train.count(), len(polyreg_train.columns)))\n",
        "print((polyreg_test.count(), len(polyreg_test.columns)))\n"
      ]
    },
    {
      "cell_type": "code",
      "execution_count": 21,
      "id": "d9dcab4c",
      "metadata": {},
      "outputs": [
        {
          "name": "stderr",
          "output_type": "stream",
          "text": [
            "                                                                                \r"
          ]
        }
      ],
      "source": [
        "from pyspark.ml.regression import GeneralizedLinearRegression\n",
        "\n",
        "feature_names = assembler.getInputCols()\n",
        "\n",
        "poly_glr_max_years = GeneralizedLinearRegression(\n",
        "    featuresCol=\"features\",\n",
        "    labelCol=\"SALARY\",\n",
        "    family=\"gaussian\", # normal distribution\n",
        "    link=\"identity\", # standard linear regression\n",
        "    maxIter=10, # number of iterations for least squares\n",
        "    regParam=0.3 # regularization parameter (L2 regularization by default)\n",
        ")\n",
        "\n",
        "poly_glr_max_years_model = poly_glr_max_years.fit(poly_data)\n",
        "poly_summary = poly_glr_max_years_model.summary\n",
        "\n",
        "\n"
      ]
    },
    {
      "cell_type": "code",
      "execution_count": 22,
      "id": "3997103d",
      "metadata": {},
      "outputs": [
        {
          "name": "stdout",
          "output_type": "stream",
          "text": [
            "Intercept: 83684.2103\n",
            "Coefficients:\n",
            " Feature 1: 1596.5795\n",
            " Feature 2: 1596.5795\n",
            " Feature 3: 31.1901\n",
            " Feature 4: 2943.3549\n",
            " Feature 5: 5624.8675\n",
            " Feature 6: 11303.5572\n",
            " Feature 7: -25678.5645\n",
            " Feature 8: 14668.1325\n",
            " Feature 9: -9752.7189\n",
            " Feature 10: -118.7467\n",
            " Feature 11: 13480.7278\n",
            " Feature 12: -9277.3038\n",
            " Feature 13: 3310.0724\n",
            " Feature 14: -14782.2689\n",
            " Feature 15: 35678.4989\n",
            " Feature 16: -8064.0197\n",
            " Feature 17: -2793.9409\n",
            " Feature 18: 17915.8367\n",
            " Feature 19: 8358.0949\n",
            " Feature 20: -35699.8382\n",
            " Feature 21: 32498.9245\n",
            " Feature 22: 6376.6043\n",
            " Feature 23: -5663.4155\n",
            " Feature 24: 4176.7678\n",
            " Feature 25: 8503.4618\n",
            " Feature 26: 2741.9488\n",
            " Feature 27: -765.8130\n",
            " Feature 28: -111.3548\n",
            "\n",
            "--- Regression Summary ---\n"
          ]
        },
        {
          "name": "stderr",
          "output_type": "stream",
          "text": [
            "[Stage 253:>                                                        (0 + 1) / 1]\r"
          ]
        },
        {
          "name": "stdout",
          "output_type": "stream",
          "text": [
            "Coefficient Standard Errors: ['22889.3361', '22889.3361', '20.7234', '20967.0009', '20980.9421', '20982.8316', '21094.7761', '21104.6267', '21115.7024', '21143.7509', '21221.3547', '21327.2560', '21500.7656', '21553.1712', '21698.8688', '21921.5499', '22028.5324', '22141.1180', '22282.5601', '24311.4028', '24305.5662', '3075.8265', '3587.0214', '2925.8458', '2988.0317', '3375.9809', '4590.5476', '825.5726', '21910.9169']\n",
            "T Values: ['0.0698', '0.0698', '1.5051', '0.1404', '0.2681', '0.5387', '-1.2173', '0.6950', '-0.4619', '-0.0056', '0.6352', '-0.4350', '0.1540', '-0.6859', '1.6443', '-0.3679', '-0.1268', '0.8092', '0.3751', '-1.4684', '1.3371', '2.0731', '-1.5789', '1.4275', '2.8458', '0.8122', '-0.1668', '-0.1349', '3.8193']\n",
            "P Values: ['0.9444', '0.9444', '0.1324', '0.8884', '0.7886', '0.5901', '0.2235', '0.4871', '0.6442', '0.9955', '0.5253', '0.6636', '0.8777', '0.4928', '0.1002', '0.7130', '0.8991', '0.4185', '0.7076', '0.1420', '0.1813', '0.0382', '0.1144', '0.1535', '0.0044', '0.4167', '0.8675', '0.8927', '0.0001']\n"
          ]
        },
        {
          "name": "stderr",
          "output_type": "stream",
          "text": [
            "                                                                                \r"
          ]
        }
      ],
      "source": [
        "# Coefficients and Intercept\n",
        "print(\"Intercept: {:.4f}\".format(poly_glr_max_years_model.intercept))\n",
        "print(\"Coefficients:\")\n",
        "for i, coef in enumerate(poly_glr_max_years_model.coefficients):\n",
        "    print(f\" Feature {i + 1}: {coef:.4f}\")\n",
        "\n",
        "# Summary stats\n",
        "print(\"\\n--- Regression Summary ---\")\n",
        "print(\"Coefficient Standard Errors:\", [f\"{val:.4f}\" for val in poly_summary.coefficientStandardErrors])\n",
        "print(\"T Values:\", [f\"{val:.4f}\" for val in poly_summary.tValues])\n",
        "print(\"P Values:\", [f\"{val:.4f}\" for val in poly_summary.pValues])\n"
      ]
    },
    {
      "cell_type": "code",
      "execution_count": 23,
      "id": "eda90ed3",
      "metadata": {},
      "outputs": [
        {
          "name": "stderr",
          "output_type": "stream",
          "text": [
            "                                                                                \r"
          ]
        },
        {
          "name": "stdout",
          "output_type": "stream",
          "text": [
            "Null Deviance: 2909123659016.3213\n",
            "Residual DF Null: 5038\n",
            "Deviance: 2272959595356.6333\n",
            "Residual DF: 5010\n"
          ]
        },
        {
          "name": "stderr",
          "output_type": "stream",
          "text": [
            "[Stage 271:>                                                        (0 + 1) / 1]\r"
          ]
        },
        {
          "name": "stdout",
          "output_type": "stream",
          "text": [
            "AIC: 114772.9258\n"
          ]
        },
        {
          "name": "stderr",
          "output_type": "stream",
          "text": [
            "                                                                                \r"
          ]
        }
      ],
      "source": [
        "# print(f\"\\nDispersion: {summary.dispersion:.4f}\")\n",
        "print(f\"Null Deviance: {poly_summary.nullDeviance:.4f}\")\n",
        "print(f\"Residual DF Null: {poly_summary.residualDegreeOfFreedomNull}\")\n",
        "print(f\"Deviance: {poly_summary.deviance:.4f}\")\n",
        "print(f\"Residual DF: {poly_summary.residualDegreeOfFreedom}\")\n",
        "print(f\"AIC: {poly_summary.aic:.4f}\")\n"
      ]
    },
    {
      "cell_type": "code",
      "execution_count": 24,
      "id": "f587c4a6",
      "metadata": {},
      "outputs": [
        {
          "name": "stdout",
          "output_type": "stream",
          "text": [
            "---This is Diagnostic check, No need to print it in the final doc---\n",
            "Length of features: 29\n",
            "Length of coefs: 29\n",
            "Length of se: 29\n",
            "Length of tvals: 29\n",
            "Length of pvals: 29\n"
          ]
        }
      ],
      "source": [
        "# 1. Pull feature names directly from Java backend\n",
        "feature_names = poly_summary._call_java(\"featureNames\")\n",
        "\n",
        "# 2. Construct full table including intercept\n",
        "poly_features = [\"Intercept\"] + feature_names\n",
        "poly_coefs = [poly_glr_max_years_model.intercept] + list(poly_glr_max_years_model.coefficients)\n",
        "poly_se = list(poly_summary.coefficientStandardErrors)\n",
        "poly_tvals = list(poly_summary.tValues)\n",
        "poly_pvals = list(poly_summary.pValues)\n",
        "\n",
        "print(\"---This is Diagnostic check, No need to print it in the final doc---\")\n",
        "print(\"Length of features:\", len(poly_features))\n",
        "print(\"Length of coefs:\", len(poly_coefs))\n",
        "print(\"Length of se:\", len(poly_se))\n",
        "print(\"Length of tvals:\", len(poly_tvals))\n",
        "print(\"Length of pvals:\", len(poly_pvals))\n"
      ]
    },
    {
      "cell_type": "code",
      "execution_count": 25,
      "id": "b92adf74",
      "metadata": {},
      "outputs": [
        {
          "data": {
            "text/html": [
              "<table border=\"1\" class=\"dataframe\">\n",
              "  <thead>\n",
              "    <tr style=\"text-align: right;\">\n",
              "      <th>Feature</th>\n",
              "      <th>Estimate</th>\n",
              "      <th>Std Error</th>\n",
              "      <th>t-stat</th>\n",
              "      <th>p-value</th>\n",
              "    </tr>\n",
              "  </thead>\n",
              "  <tbody>\n",
              "    <tr>\n",
              "      <td>Intercept</td>\n",
              "      <td>83684.2103</td>\n",
              "      <td>22889.3361</td>\n",
              "      <td>0.0698</td>\n",
              "      <td>0.9444</td>\n",
              "    </tr>\n",
              "    <tr>\n",
              "      <td>MIN_YEARS_EXPERIENCE</td>\n",
              "      <td>1596.5795</td>\n",
              "      <td>22889.3361</td>\n",
              "      <td>0.0698</td>\n",
              "      <td>0.9444</td>\n",
              "    </tr>\n",
              "    <tr>\n",
              "      <td>MAX_YEARS_EXPERIENCE</td>\n",
              "      <td>1596.5795</td>\n",
              "      <td>20.7234</td>\n",
              "      <td>1.5051</td>\n",
              "      <td>0.1324</td>\n",
              "    </tr>\n",
              "    <tr>\n",
              "      <td>DURATION</td>\n",
              "      <td>31.1901</td>\n",
              "      <td>20967.0009</td>\n",
              "      <td>0.1404</td>\n",
              "      <td>0.8884</td>\n",
              "    </tr>\n",
              "    <tr>\n",
              "      <td>EDUCATION_LEVELS_NAME_vec_\"Bachelor's degree\"</td>\n",
              "      <td>2943.3549</td>\n",
              "      <td>20980.9421</td>\n",
              "      <td>0.2681</td>\n",
              "      <td>0.7886</td>\n",
              "    </tr>\n",
              "    <tr>\n",
              "      <td>EDUCATION_LEVELS_NAME_vec_\"No Education Listed\"</td>\n",
              "      <td>5624.8675</td>\n",
              "      <td>20982.8316</td>\n",
              "      <td>0.5387</td>\n",
              "      <td>0.5901</td>\n",
              "    </tr>\n",
              "    <tr>\n",
              "      <td>EDUCATION_LEVELS_NAME_vec_\"Bachelor's degree\",  \"Master's degree\"</td>\n",
              "      <td>11303.5572</td>\n",
              "      <td>21094.7761</td>\n",
              "      <td>-1.2173</td>\n",
              "      <td>0.2235</td>\n",
              "    </tr>\n",
              "    <tr>\n",
              "      <td>EDUCATION_LEVELS_NAME_vec_\"High school or GED\",  \"Bachelor's degree\"</td>\n",
              "      <td>-25678.5645</td>\n",
              "      <td>21104.6267</td>\n",
              "      <td>0.6950</td>\n",
              "      <td>0.4871</td>\n",
              "    </tr>\n",
              "    <tr>\n",
              "      <td>EDUCATION_LEVELS_NAME_vec_\"Bachelor's degree\",  \"Master's degree\",  \"Ph.D. or professional degree\"</td>\n",
              "      <td>14668.1325</td>\n",
              "      <td>21115.7024</td>\n",
              "      <td>-0.4619</td>\n",
              "      <td>0.6442</td>\n",
              "    </tr>\n",
              "    <tr>\n",
              "      <td>EDUCATION_LEVELS_NAME_vec_\"High school or GED\"</td>\n",
              "      <td>-9752.7189</td>\n",
              "      <td>21143.7509</td>\n",
              "      <td>-0.0056</td>\n",
              "      <td>0.9955</td>\n",
              "    </tr>\n",
              "    <tr>\n",
              "      <td>EDUCATION_LEVELS_NAME_vec_\"Associate degree\",  \"Bachelor's degree\"</td>\n",
              "      <td>-118.7467</td>\n",
              "      <td>21221.3547</td>\n",
              "      <td>0.6352</td>\n",
              "      <td>0.5253</td>\n",
              "    </tr>\n",
              "    <tr>\n",
              "      <td>EDUCATION_LEVELS_NAME_vec_\"Master's degree\"</td>\n",
              "      <td>13480.7278</td>\n",
              "      <td>21327.2560</td>\n",
              "      <td>-0.4350</td>\n",
              "      <td>0.6636</td>\n",
              "    </tr>\n",
              "    <tr>\n",
              "      <td>EDUCATION_LEVELS_NAME_vec_\"Associate degree\"</td>\n",
              "      <td>-9277.3038</td>\n",
              "      <td>21500.7656</td>\n",
              "      <td>0.1540</td>\n",
              "      <td>0.8777</td>\n",
              "    </tr>\n",
              "    <tr>\n",
              "      <td>EDUCATION_LEVELS_NAME_vec_\"Associate degree\",  \"Bachelor's degree\",  \"Master's degree\"</td>\n",
              "      <td>3310.0724</td>\n",
              "      <td>21553.1712</td>\n",
              "      <td>-0.6859</td>\n",
              "      <td>0.4928</td>\n",
              "    </tr>\n",
              "    <tr>\n",
              "      <td>EDUCATION_LEVELS_NAME_vec_\"Associate degree\",  \"Bachelor's degree\",  \"Master's degree\",  \"Ph.D. or professional degree\"</td>\n",
              "      <td>-14782.2689</td>\n",
              "      <td>21698.8688</td>\n",
              "      <td>1.6443</td>\n",
              "      <td>0.1002</td>\n",
              "    </tr>\n",
              "    <tr>\n",
              "      <td>EDUCATION_LEVELS_NAME_vec_\"Bachelor's degree\",  \"Ph.D. or professional degree\"</td>\n",
              "      <td>35678.4989</td>\n",
              "      <td>21921.5499</td>\n",
              "      <td>-0.3679</td>\n",
              "      <td>0.7130</td>\n",
              "    </tr>\n",
              "    <tr>\n",
              "      <td>EDUCATION_LEVELS_NAME_vec_\"High school or GED\",  \"Associate degree\",  \"Bachelor's degree\"</td>\n",
              "      <td>-8064.0197</td>\n",
              "      <td>22028.5324</td>\n",
              "      <td>-0.1268</td>\n",
              "      <td>0.8991</td>\n",
              "    </tr>\n",
              "    <tr>\n",
              "      <td>EDUCATION_LEVELS_NAME_vec_\"High school or GED\",  \"Bachelor's degree\",  \"Master's degree\"</td>\n",
              "      <td>-2793.9409</td>\n",
              "      <td>22141.1180</td>\n",
              "      <td>0.8092</td>\n",
              "      <td>0.4185</td>\n",
              "    </tr>\n",
              "    <tr>\n",
              "      <td>EDUCATION_LEVELS_NAME_vec_\"Master's degree\",  \"Ph.D. or professional degree\"</td>\n",
              "      <td>17915.8367</td>\n",
              "      <td>22282.5601</td>\n",
              "      <td>0.3751</td>\n",
              "      <td>0.7076</td>\n",
              "    </tr>\n",
              "    <tr>\n",
              "      <td>EDUCATION_LEVELS_NAME_vec_\"High school or GED\",  \"Associate degree\"</td>\n",
              "      <td>8358.0949</td>\n",
              "      <td>24311.4028</td>\n",
              "      <td>-1.4684</td>\n",
              "      <td>0.1420</td>\n",
              "    </tr>\n",
              "    <tr>\n",
              "      <td>EDUCATION_LEVELS_NAME_vec_\"High school or GED\",  \"Associate degree\",  \"Bachelor's degree\",  \"Master's degree\"</td>\n",
              "      <td>-35699.8382</td>\n",
              "      <td>24305.5662</td>\n",
              "      <td>1.3371</td>\n",
              "      <td>0.1813</td>\n",
              "    </tr>\n",
              "    <tr>\n",
              "      <td>EDUCATION_LEVELS_NAME_vec_\"Ph.D. or professional degree\"</td>\n",
              "      <td>32498.9245</td>\n",
              "      <td>3075.8265</td>\n",
              "      <td>2.0731</td>\n",
              "      <td>0.0382</td>\n",
              "    </tr>\n",
              "    <tr>\n",
              "      <td>EMPLOYMENT_TYPE_NAME_vec_Full-time (&gt; 32 hours)</td>\n",
              "      <td>6376.6043</td>\n",
              "      <td>3587.0214</td>\n",
              "      <td>-1.5789</td>\n",
              "      <td>0.1144</td>\n",
              "    </tr>\n",
              "    <tr>\n",
              "      <td>EMPLOYMENT_TYPE_NAME_vec_Part-time (â‰¤ 32 hours)</td>\n",
              "      <td>-5663.4155</td>\n",
              "      <td>2925.8458</td>\n",
              "      <td>1.4275</td>\n",
              "      <td>0.1535</td>\n",
              "    </tr>\n",
              "    <tr>\n",
              "      <td>REMOTE_TYPE_NAME_vec_[None]</td>\n",
              "      <td>4176.7678</td>\n",
              "      <td>2988.0317</td>\n",
              "      <td>2.8458</td>\n",
              "      <td>0.0044</td>\n",
              "    </tr>\n",
              "    <tr>\n",
              "      <td>REMOTE_TYPE_NAME_vec_Remote</td>\n",
              "      <td>8503.4618</td>\n",
              "      <td>3375.9809</td>\n",
              "      <td>0.8122</td>\n",
              "      <td>0.4167</td>\n",
              "    </tr>\n",
              "    <tr>\n",
              "      <td>REMOTE_TYPE_NAME_vec_Hybrid Remote</td>\n",
              "      <td>2741.9488</td>\n",
              "      <td>4590.5476</td>\n",
              "      <td>-0.1668</td>\n",
              "      <td>0.8675</td>\n",
              "    </tr>\n",
              "    <tr>\n",
              "      <td>IS_INTERNSHIP_vec_0</td>\n",
              "      <td>-765.8130</td>\n",
              "      <td>825.5726</td>\n",
              "      <td>-0.1349</td>\n",
              "      <td>0.8927</td>\n",
              "    </tr>\n",
              "    <tr>\n",
              "      <td>COMPANY_IS_STAFFING_vec_0</td>\n",
              "      <td>-111.3548</td>\n",
              "      <td>21910.9169</td>\n",
              "      <td>3.8193</td>\n",
              "      <td>0.0001</td>\n",
              "    </tr>\n",
              "  </tbody>\n",
              "</table>"
            ],
            "text/plain": [
              "<IPython.core.display.HTML object>"
            ]
          },
          "execution_count": 25,
          "metadata": {},
          "output_type": "execute_result"
        }
      ],
      "source": [
        "import pandas as pd\n",
        "from tabulate import tabulate\n",
        "from IPython.display import HTML\n",
        "\n",
        "poly_coef_table = pd.DataFrame({\n",
        "    \"Feature\": poly_features,\n",
        "    \"Estimate\": [f\"{v:.4f}\" if v is not None else None for v in poly_coefs],\n",
        "    \"Std Error\": [f\"{v:.4f}\" if v is not None else None for v in poly_se],\n",
        "    \"t-stat\": [f\"{v:.4f}\" if v is not None else None for v in poly_tvals],\n",
        "    \"p-value\": [f\"{v:.4f}\" if v is not None else None for v in poly_pvals]\n",
        "})\n",
        "\n",
        "# 4. Save for report\n",
        "poly_coef_table.to_csv(\"output/poly_summary.csv\", index=False)\n",
        "\n",
        "# 5. Optional pretty print\n",
        "HTML(poly_coef_table.to_html(index=False))\n"
      ]
    }
  ],
  "metadata": {
    "kernelspec": {
      "display_name": ".venv (3.12.3)",
      "language": "python",
      "name": "python3"
    },
    "language_info": {
      "codemirror_mode": {
        "name": "ipython",
        "version": 3
      },
      "file_extension": ".py",
      "mimetype": "text/x-python",
      "name": "python",
      "nbconvert_exporter": "python",
      "pygments_lexer": "ipython3",
      "version": "3.12.3"
    }
  },
  "nbformat": 4,
  "nbformat_minor": 5
}
